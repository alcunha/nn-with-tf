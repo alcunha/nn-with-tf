{
 "cells": [
  {
   "cell_type": "code",
   "execution_count": null,
   "metadata": {},
   "outputs": [],
   "source": [
    "# MIT License\n",
    "#\n",
    "# Copyright (c) 2020 Fagner Cunha\n",
    "#\n",
    "# Permission is hereby granted, free of charge, to any person obtaining a\n",
    "# copy of this software and associated documentation files (the \"Software\"),\n",
    "# to deal in the Software without restriction, including without limitation\n",
    "# the rights to use, copy, modify, merge, publish, distribute, sublicense,\n",
    "# and/or sell copies of the Software, and to permit persons to whom the\n",
    "# Software is furnished to do so, subject to the following conditions:\n",
    "#\n",
    "# The above copyright notice and this permission notice shall be included in\n",
    "# all copies or substantial portions of the Software.\n",
    "#\n",
    "# THE SOFTWARE IS PROVIDED \"AS IS\", WITHOUT WARRANTY OF ANY KIND, EXPRESS OR\n",
    "# IMPLIED, INCLUDING BUT NOT LIMITED TO THE WARRANTIES OF MERCHANTABILITY,\n",
    "# FITNESS FOR A PARTICULAR PURPOSE AND NONINFRINGEMENT. IN NO EVENT SHALL\n",
    "# THE AUTHORS OR COPYRIGHT HOLDERS BE LIABLE FOR ANY CLAIM, DAMAGES OR OTHER\n",
    "# LIABILITY, WHETHER IN AN ACTION OF CONTRACT, TORT OR OTHERWISE, ARISING\n",
    "# FROM, OUT OF OR IN CONNECTION WITH THE SOFTWARE OR THE USE OR OTHER\n",
    "# DEALINGS IN THE SOFTWARE."
   ]
  },
  {
   "cell_type": "markdown",
   "metadata": {},
   "source": [
    "# Redes Neurais Convolutivas com TensorFlow\n",
    "\n",
    "<table align=\"left\">\n",
    "  <td>\n",
    "    <a href=\"https://colab.research.google.com/github/alcunha/nn-with-tf/blob/master/Convolutional-Neural-Networks-with-TF.ipynb\"><img src=\"./images/colab_logo_32px.png\" />Executar no Google Colab</a>\n",
    "  </td>\n",
    "  <td>\n",
    "    <a href=\"https://github.com/alcunha/nn-with-tf/blob/master/Convolutional-Neural-Networks-with-TF.ipynb\"><img src=\"./images/GitHub-Mark-32px.png\" />Ver código no GitHub</a>\n",
    "  </td>\n",
    "</table>"
   ]
  },
  {
   "cell_type": "markdown",
   "metadata": {},
   "source": [
    "*“NÃO ENTRE EM PÂNICO”*\n",
    "\n",
    "(O Guia do Mochileiro das Galáxias)"
   ]
  },
  {
   "cell_type": "code",
   "execution_count": null,
   "metadata": {},
   "outputs": [],
   "source": [
    "! pip install tensorflow tensorflow_datasets tfds-nightly matplotlib"
   ]
  },
  {
   "cell_type": "code",
   "execution_count": 1,
   "metadata": {},
   "outputs": [],
   "source": [
    "import tensorflow as tf\n",
    "import tensorflow_datasets as tfds\n",
    "import matplotlib.pyplot as plt\n",
    "\n",
    "from tensorflow import keras\n",
    "\n",
    "AUTOTUNE = tf.data.experimental.AUTOTUNE"
   ]
  },
  {
   "cell_type": "markdown",
   "metadata": {},
   "source": [
    "## Redes Convolutivas\n",
    "\n",
    "Redes neurais convolutivas são um subtipo especial de rede neural \n",
    "*feedfoward* especializado no processamento de dados organizados em \n",
    "topologia similar a uma grade [1]. O exemplo clássico \n",
    "desse tipo de dado são as imagens, as quais são organizadas em topologia 2D.\n",
    "\n",
    "Os principais tipos de camadas utilizados em uma rede convolutiva são as camadas \n",
    "convolutivas, as camadas de *pooling* e as camadas completamente conectadas. Porém\n",
    "as redes modernas utilizam uma série de outros tipos de camadas como as camadas de\n",
    "*batch normalization* e de *skip*."
   ]
  },
  {
   "cell_type": "markdown",
   "metadata": {},
   "source": [
    "### Camada convolutiva\n",
    "\n",
    "Cada unidade de uma camada convolutiva está conectada somente a um conjunto de campos receptivos \n",
    "locais, em vez de todas as unidades da camada anterior, como ocorre nas camadas \n",
    "completamente conectadas. Além disso, essas unidades são organizadas em mapas\n",
    "de filtros, onde as unidades de cada mapa compartilham os mesmos pesos.\n",
    "\n",
    "<img src=\"./images/conv_kernel.gif\" width=\"600\">\n",
    "<center>Figura 1: Exemplo de operação de convolução com um filtro 3x3</center>\n",
    "<center>Fonte: [2]</center>"
   ]
  },
  {
   "cell_type": "code",
   "execution_count": 2,
   "metadata": {},
   "outputs": [],
   "source": [
    "input_value = tf.constant([\n",
    "    [60, 113, 56, 139, 85],\n",
    "    [73, 121, 54, 84, 128],\n",
    "    [131, 99, 70, 129, 127],\n",
    "    [80, 57, 115, 69, 134],\n",
    "    [104, 126, 123, 95, 130]\n",
    "], shape=(1, 5, 5, 1), dtype=tf.float32)"
   ]
  },
  {
   "cell_type": "code",
   "execution_count": 3,
   "metadata": {},
   "outputs": [],
   "source": [
    "kernel = tf.constant([\n",
    "    [0, -1, 0],\n",
    "    [-1, 5, -1],\n",
    "    [0, -1, 0]\n",
    "], shape=(3, 3, 1, 1), dtype=tf.float32)"
   ]
  },
  {
   "cell_type": "code",
   "execution_count": 4,
   "metadata": {},
   "outputs": [
    {
     "data": {
      "text/plain": [
       "<tf.Tensor: shape=(1, 5, 5, 1), dtype=float32, numpy=\n",
       "array([[[[ 114.],\n",
       "         [ 328.],\n",
       "         [ -26.],\n",
       "         [ 470.],\n",
       "         [ 158.]],\n",
       "\n",
       "        [[  53.],\n",
       "         [ 266.],\n",
       "         [ -61.],\n",
       "         [ -30.],\n",
       "         [ 344.]],\n",
       "\n",
       "        [[ 403.],\n",
       "         [ 116.],\n",
       "         [ -47.],\n",
       "         [ 295.],\n",
       "         [ 244.]],\n",
       "\n",
       "        [[ 108.],\n",
       "         [-135.],\n",
       "         [ 256.],\n",
       "         [-128.],\n",
       "         [ 344.]],\n",
       "\n",
       "        [[ 314.],\n",
       "         [ 346.],\n",
       "         [ 279.],\n",
       "         [ 153.],\n",
       "         [ 421.]]]], dtype=float32)>"
      ]
     },
     "execution_count": 4,
     "metadata": {},
     "output_type": "execute_result"
    }
   ],
   "source": [
    "tf.nn.conv2d(input_value, kernel, strides=1, padding='SAME')"
   ]
  },
  {
   "cell_type": "markdown",
   "metadata": {},
   "source": [
    "##### Stride\n",
    "\n",
    "Stride é a quantidade de posições a serem movidas a cada nova aplicação do filtro sobre a entrada (e em cada um dos eixos). A Figura 1 apresenta stride de (1, 1), ou seja a cada vez que o filtro é aplicado à entrada move-se uma posição em relação à entrada. A Figura 2 apresenta uma animação de com stride de (2,2).\n",
    "\n",
    "<img src=\"./images/padding_strides.gif\" width=\"250\">\n",
    "<center>Figura 2: Animação de um filtro 3x3 com stride de (2,2)</center>\n",
    "<center>Fonte: [3]</center>"
   ]
  },
  {
   "cell_type": "code",
   "execution_count": 5,
   "metadata": {},
   "outputs": [
    {
     "data": {
      "text/plain": [
       "<tf.Tensor: shape=(1, 3, 3, 1), dtype=float32, numpy=\n",
       "array([[[[114.],\n",
       "         [-26.],\n",
       "         [158.]],\n",
       "\n",
       "        [[403.],\n",
       "         [-47.],\n",
       "         [244.]],\n",
       "\n",
       "        [[314.],\n",
       "         [279.],\n",
       "         [421.]]]], dtype=float32)>"
      ]
     },
     "execution_count": 5,
     "metadata": {},
     "output_type": "execute_result"
    }
   ],
   "source": [
    "tf.nn.conv2d(input_value, kernel, strides=2, padding='SAME')"
   ]
  },
  {
   "cell_type": "markdown",
   "metadata": {},
   "source": [
    "##### Padding\n",
    "\n",
    "Por padrão, a operação de convolução começa com o filtro alinhado com o pixel da primeira linha e primeira coluna. Dessa forma, os pixels das bordas acabam passando por menos operações. *Padding* é quando se opta por adicionar zeros ao redor da imagem ao aplicar o filtro convolutivo.\n",
    "\n",
    "O tamanho do *padding* pode ser arbitrário, mas geralmente os frameworks possuem as opções \"VALID\" (sem padding) e \"SAME\", onde o tamanho do padding é calculado de forma que a saída tenha o mesmo tamanho da entrada. A Figura 1 apresenta um exemplo de padding \"SAME\" e a Figura 3 apresenta uma animação com padding \"VALID\". \n",
    "\n",
    "\n",
    "<img src=\"./images/no_padding_no_strides.gif\" width=\"250\">\n",
    "<center>Figura 3: Animação de um filtro 3x3 com padding \"VALID\"</center>\n",
    "<center>Fonte: [3]</center>"
   ]
  },
  {
   "cell_type": "code",
   "execution_count": 6,
   "metadata": {},
   "outputs": [
    {
     "data": {
      "text/plain": [
       "<tf.Tensor: shape=(1, 3, 3, 1), dtype=float32, numpy=\n",
       "array([[[[ 266.],\n",
       "         [ -61.],\n",
       "         [ -30.]],\n",
       "\n",
       "        [[ 116.],\n",
       "         [ -47.],\n",
       "         [ 295.]],\n",
       "\n",
       "        [[-135.],\n",
       "         [ 256.],\n",
       "         [-128.]]]], dtype=float32)>"
      ]
     },
     "execution_count": 6,
     "metadata": {},
     "output_type": "execute_result"
    }
   ],
   "source": [
    "tf.nn.conv2d(input_value, kernel, strides=1, padding='VALID')"
   ]
  },
  {
   "cell_type": "markdown",
   "metadata": {},
   "source": [
    "### Camada de *pooling*\n",
    "\n",
    "Camadas de pooling funcionam fazendo sub-amostragem da representação recebida,\n",
    "juntando características semanticamente similares em uma só.\n",
    "\n",
    "O max pooling calcula o valor máximo de um conjunto local de unidades de um determinado mapa de filtros.\n",
    "Outra operação comum nesse tipo de camada é o cálculo da média do conjunto local (average pooling)."
   ]
  },
  {
   "cell_type": "code",
   "execution_count": 7,
   "metadata": {},
   "outputs": [],
   "source": [
    "input_value_2 = tf.constant([\n",
    "    [1, 2, 3, 4],\n",
    "    [5, 6, 7, 8],\n",
    "    [9, 10, 11, 12],\n",
    "    [13, 14, 15, 16],\n",
    "], shape=(1, 4, 4, 1), dtype=tf.float32)"
   ]
  },
  {
   "cell_type": "code",
   "execution_count": 8,
   "metadata": {},
   "outputs": [
    {
     "data": {
      "text/plain": [
       "<tf.Tensor: shape=(1, 2, 2, 1), dtype=float32, numpy=\n",
       "array([[[[ 6.],\n",
       "         [ 8.]],\n",
       "\n",
       "        [[14.],\n",
       "         [16.]]]], dtype=float32)>"
      ]
     },
     "execution_count": 8,
     "metadata": {},
     "output_type": "execute_result"
    }
   ],
   "source": [
    "tf.nn.max_pool2d(input_value_2, ksize=(2,2), strides=2, padding='VALID')"
   ]
  },
  {
   "cell_type": "code",
   "execution_count": 9,
   "metadata": {},
   "outputs": [
    {
     "data": {
      "text/plain": [
       "<tf.Tensor: shape=(1, 2, 2, 1), dtype=float32, numpy=\n",
       "array([[[[ 3.5],\n",
       "         [ 5.5]],\n",
       "\n",
       "        [[11.5],\n",
       "         [13.5]]]], dtype=float32)>"
      ]
     },
     "execution_count": 9,
     "metadata": {},
     "output_type": "execute_result"
    }
   ],
   "source": [
    "tf.nn.avg_pool2d(input_value_2, ksize=(2,2), strides=2, padding='VALID')"
   ]
  },
  {
   "cell_type": "markdown",
   "metadata": {},
   "source": [
    "## Exemplo Prático: CNN para o dataset Fashion MNIST\n",
    "\n",
    "1. Utilização do TensorFlow Datasets\n",
    "2. Preparação do pipeline de dados\n",
    "3. Construção do modelo\n",
    "4. Treinamento\n",
    "5. Avaliação do modelo e visualização dos resultados"
   ]
  },
  {
   "cell_type": "markdown",
   "metadata": {},
   "source": [
    "O MNIST [4] é uma base de digitos numéricos manuscritos composta por imagens em escala de cinza de tamanho 28 x 28. O Fashion MNIST [5] é uma base que segue o mesmo formato da MNIST, porém, em vez de dígitos, as 10 categorias são produtos de moda. "
   ]
  },
  {
   "cell_type": "code",
   "execution_count": 10,
   "metadata": {},
   "outputs": [],
   "source": [
    "def tuple2dict(image, label):\n",
    "    sample_dict = {\n",
    "        'image': image,\n",
    "        'label': label\n",
    "    }\n",
    "    return sample_dict\n",
    "\n",
    "def show_examples(dataset, info):\n",
    "    dataset = dataset.map(tuple2dict, num_parallel_calls=AUTOTUNE)\n",
    "    tfds.show_examples(dataset, info, rows=2, cols=4)\n",
    "    plt.close()"
   ]
  },
  {
   "cell_type": "markdown",
   "metadata": {},
   "source": [
    "Carregando o dataset disponibilizado pela biblioteca TensorFloaw Datasets:"
   ]
  },
  {
   "cell_type": "code",
   "execution_count": 11,
   "metadata": {},
   "outputs": [],
   "source": [
    "(fmnist_train, fmnist_test), info = tfds.load('fashion_mnist',\n",
    "                                              split=['train', 'test'],\n",
    "                                              shuffle_files=True,\n",
    "                                              as_supervised=True,\n",
    "                                              with_info=True)"
   ]
  },
  {
   "cell_type": "code",
   "execution_count": 12,
   "metadata": {},
   "outputs": [
    {
     "data": {
      "image/png": "[encoded data removed]",
      "text/plain": [
       "<Figure size 864x432 with 8 Axes>"
      ]
     },
     "metadata": {},
     "output_type": "display_data"
    }
   ],
   "source": [
    "show_examples(fmnist_train, info)"
   ]
  },
  {
   "cell_type": "markdown",
   "metadata": {},
   "source": [
    "#### Explorando os metadados do dataset carregados utilizando a opção with_info:"
   ]
  },
  {
   "cell_type": "code",
   "execution_count": 13,
   "metadata": {},
   "outputs": [
    {
     "name": "stdout",
     "output_type": "stream",
     "text": [
      "tfds.core.DatasetInfo(\n",
      "    name='fashion_mnist',\n",
      "    version=3.0.1,\n",
      "    description='Fashion-MNIST is a dataset of Zalando's article images consisting of a training set of 60,000 examples and a test set of 10,000 examples. Each example is a 28x28 grayscale image, associated with a label from 10 classes.',\n",
      "    homepage='https://github.com/zalandoresearch/fashion-mnist',\n",
      "    features=FeaturesDict({\n",
      "        'image': Image(shape=(28, 28, 1), dtype=tf.uint8),\n",
      "        'label': ClassLabel(shape=(), dtype=tf.int64, num_classes=10),\n",
      "    }),\n",
      "    total_num_examples=70000,\n",
      "    splits={\n",
      "        'test': 10000,\n",
      "        'train': 60000,\n",
      "    },\n",
      "    supervised_keys=('image', 'label'),\n",
      "    citation=\"\"\"@article{DBLP:journals/corr/abs-1708-07747,\n",
      "      author    = {Han Xiao and\n",
      "                   Kashif Rasul and\n",
      "                   Roland Vollgraf},\n",
      "      title     = {Fashion-MNIST: a Novel Image Dataset for Benchmarking Machine Learning\n",
      "                   Algorithms},\n",
      "      journal   = {CoRR},\n",
      "      volume    = {abs/1708.07747},\n",
      "      year      = {2017},\n",
      "      url       = {http://arxiv.org/abs/1708.07747},\n",
      "      archivePrefix = {arXiv},\n",
      "      eprint    = {1708.07747},\n",
      "      timestamp = {Mon, 13 Aug 2018 16:47:27 +0200},\n",
      "      biburl    = {https://dblp.org/rec/bib/journals/corr/abs-1708-07747},\n",
      "      bibsource = {dblp computer science bibliography, https://dblp.org}\n",
      "    }\"\"\",\n",
      "    redistribution_info=,\n",
      ")\n",
      "\n"
     ]
    }
   ],
   "source": [
    "print(info)"
   ]
  },
  {
   "cell_type": "code",
   "execution_count": 14,
   "metadata": {},
   "outputs": [
    {
     "name": "stdout",
     "output_type": "stream",
     "text": [
      "Image(shape=(28, 28, 1), dtype=tf.uint8)\n"
     ]
    }
   ],
   "source": [
    "print(info.features['image'])"
   ]
  },
  {
   "cell_type": "code",
   "execution_count": 15,
   "metadata": {},
   "outputs": [
    {
     "name": "stdout",
     "output_type": "stream",
     "text": [
      "['T-shirt/top', 'Trouser', 'Pullover', 'Dress', 'Coat', 'Sandal', 'Shirt', 'Sneaker', 'Bag', 'Ankle boot']\n"
     ]
    }
   ],
   "source": [
    "print(info.features[\"label\"].names)"
   ]
  },
  {
   "cell_type": "code",
   "execution_count": 16,
   "metadata": {},
   "outputs": [
    {
     "name": "stdout",
     "output_type": "stream",
     "text": [
      "10\n"
     ]
    }
   ],
   "source": [
    "print(info.features[\"label\"].num_classes)"
   ]
  },
  {
   "cell_type": "markdown",
   "metadata": {},
   "source": [
    "#### Explorando os dados:"
   ]
  },
  {
   "cell_type": "code",
   "execution_count": 17,
   "metadata": {},
   "outputs": [],
   "source": [
    "image, label = next(iter(fmnist_train))"
   ]
  },
  {
   "cell_type": "code",
   "execution_count": 18,
   "metadata": {},
   "outputs": [
    {
     "data": {
      "text/plain": [
       "array([[[  0],\n",
       "        [  0],\n",
       "        [  0],\n",
       "        [  0],\n",
       "        [  0],\n",
       "        [  0],\n",
       "        [  0],\n",
       "        [  0],\n",
       "        [  0],\n",
       "        [ 18],\n",
       "        [ 77],\n",
       "        [227],\n",
       "        [227],\n",
       "        [208],\n",
       "        [210],\n",
       "        [225],\n",
       "        [216],\n",
       "        [ 85],\n",
       "        [ 32],\n",
       "        [  0],\n",
       "        [  0],\n",
       "        [  0],\n",
       "        [  0],\n",
       "        [  0],\n",
       "        [  0],\n",
       "        [  0],\n",
       "        [  0],\n",
       "        [  0]],\n",
       "\n",
       "       [[  0],\n",
       "        [  0],\n",
       "        [  0],\n",
       "        [  0],\n",
       "        [  0],\n",
       "        [  0],\n",
       "        [  0],\n",
       "        [ 61],\n",
       "        [100],\n",
       "        [ 97],\n",
       "        [ 80],\n",
       "        [ 57],\n",
       "        [117],\n",
       "        [227],\n",
       "        [238],\n",
       "        [115],\n",
       "        [ 49],\n",
       "        [ 78],\n",
       "        [106],\n",
       "        [108],\n",
       "        [ 71],\n",
       "        [  0],\n",
       "        [  0],\n",
       "        [  0],\n",
       "        [  0],\n",
       "        [  0],\n",
       "        [  0],\n",
       "        [  0]],\n",
       "\n",
       "       [[  0],\n",
       "        [  0],\n",
       "        [  0],\n",
       "        [  0],\n",
       "        [  0],\n",
       "        [  0],\n",
       "        [ 81],\n",
       "        [105],\n",
       "        [ 80],\n",
       "        [ 69],\n",
       "        [ 72],\n",
       "        [ 64],\n",
       "        [ 44],\n",
       "        [ 21],\n",
       "        [ 13],\n",
       "        [ 44],\n",
       "        [ 69],\n",
       "        [ 75],\n",
       "        [ 75],\n",
       "        [ 80],\n",
       "        [114],\n",
       "        [ 80],\n",
       "        [  0],\n",
       "        [  0],\n",
       "        [  0],\n",
       "        [  0],\n",
       "        [  0],\n",
       "        [  0]],\n",
       "\n",
       "       [[  0],\n",
       "        [  0],\n",
       "        [  0],\n",
       "        [  0],\n",
       "        [  0],\n",
       "        [ 26],\n",
       "        [ 92],\n",
       "        [ 69],\n",
       "        [ 68],\n",
       "        [ 75],\n",
       "        [ 75],\n",
       "        [ 71],\n",
       "        [ 74],\n",
       "        [ 83],\n",
       "        [ 75],\n",
       "        [ 77],\n",
       "        [ 78],\n",
       "        [ 74],\n",
       "        [ 74],\n",
       "        [ 83],\n",
       "        [ 77],\n",
       "        [108],\n",
       "        [ 34],\n",
       "        [  0],\n",
       "        [  0],\n",
       "        [  0],\n",
       "        [  0],\n",
       "        [  0]],\n",
       "\n",
       "       [[  0],\n",
       "        [  0],\n",
       "        [  0],\n",
       "        [  0],\n",
       "        [  0],\n",
       "        [ 55],\n",
       "        [ 92],\n",
       "        [ 69],\n",
       "        [ 74],\n",
       "        [ 74],\n",
       "        [ 71],\n",
       "        [ 71],\n",
       "        [ 77],\n",
       "        [ 69],\n",
       "        [ 66],\n",
       "        [ 75],\n",
       "        [ 74],\n",
       "        [ 77],\n",
       "        [ 80],\n",
       "        [ 80],\n",
       "        [ 78],\n",
       "        [ 94],\n",
       "        [ 63],\n",
       "        [  0],\n",
       "        [  0],\n",
       "        [  0],\n",
       "        [  0],\n",
       "        [  0]],\n",
       "\n",
       "       [[  0],\n",
       "        [  0],\n",
       "        [  0],\n",
       "        [  0],\n",
       "        [  0],\n",
       "        [ 63],\n",
       "        [ 95],\n",
       "        [ 66],\n",
       "        [ 68],\n",
       "        [ 72],\n",
       "        [ 72],\n",
       "        [ 69],\n",
       "        [ 72],\n",
       "        [ 74],\n",
       "        [ 74],\n",
       "        [ 74],\n",
       "        [ 75],\n",
       "        [ 75],\n",
       "        [ 77],\n",
       "        [ 80],\n",
       "        [ 77],\n",
       "        [106],\n",
       "        [ 61],\n",
       "        [  0],\n",
       "        [  0],\n",
       "        [  0],\n",
       "        [  0],\n",
       "        [  0]],\n",
       "\n",
       "       [[  0],\n",
       "        [  0],\n",
       "        [  0],\n",
       "        [  0],\n",
       "        [  0],\n",
       "        [ 80],\n",
       "        [108],\n",
       "        [ 71],\n",
       "        [ 69],\n",
       "        [ 72],\n",
       "        [ 71],\n",
       "        [ 69],\n",
       "        [ 72],\n",
       "        [ 75],\n",
       "        [ 75],\n",
       "        [ 72],\n",
       "        [ 72],\n",
       "        [ 75],\n",
       "        [ 78],\n",
       "        [ 72],\n",
       "        [ 85],\n",
       "        [128],\n",
       "        [ 64],\n",
       "        [  0],\n",
       "        [  0],\n",
       "        [  0],\n",
       "        [  0],\n",
       "        [  0]],\n",
       "\n",
       "       [[  0],\n",
       "        [  0],\n",
       "        [  0],\n",
       "        [  0],\n",
       "        [  0],\n",
       "        [ 88],\n",
       "        [120],\n",
       "        [ 75],\n",
       "        [ 74],\n",
       "        [ 77],\n",
       "        [ 75],\n",
       "        [ 72],\n",
       "        [ 77],\n",
       "        [ 74],\n",
       "        [ 74],\n",
       "        [ 77],\n",
       "        [ 78],\n",
       "        [ 83],\n",
       "        [ 83],\n",
       "        [ 66],\n",
       "        [111],\n",
       "        [123],\n",
       "        [ 78],\n",
       "        [  0],\n",
       "        [  0],\n",
       "        [  0],\n",
       "        [  0],\n",
       "        [  0]],\n",
       "\n",
       "       [[  0],\n",
       "        [  0],\n",
       "        [  0],\n",
       "        [  0],\n",
       "        [  0],\n",
       "        [ 85],\n",
       "        [134],\n",
       "        [ 74],\n",
       "        [ 85],\n",
       "        [ 69],\n",
       "        [ 75],\n",
       "        [ 75],\n",
       "        [ 74],\n",
       "        [ 75],\n",
       "        [ 74],\n",
       "        [ 75],\n",
       "        [ 75],\n",
       "        [ 81],\n",
       "        [ 75],\n",
       "        [ 61],\n",
       "        [151],\n",
       "        [115],\n",
       "        [ 91],\n",
       "        [ 12],\n",
       "        [  0],\n",
       "        [  0],\n",
       "        [  0],\n",
       "        [  0]],\n",
       "\n",
       "       [[  0],\n",
       "        [  0],\n",
       "        [  0],\n",
       "        [  0],\n",
       "        [ 10],\n",
       "        [ 85],\n",
       "        [153],\n",
       "        [ 83],\n",
       "        [ 80],\n",
       "        [ 68],\n",
       "        [ 77],\n",
       "        [ 75],\n",
       "        [ 74],\n",
       "        [ 75],\n",
       "        [ 74],\n",
       "        [ 75],\n",
       "        [ 77],\n",
       "        [ 80],\n",
       "        [ 68],\n",
       "        [ 61],\n",
       "        [162],\n",
       "        [122],\n",
       "        [ 78],\n",
       "        [  6],\n",
       "        [  0],\n",
       "        [  0],\n",
       "        [  0],\n",
       "        [  0]],\n",
       "\n",
       "       [[  0],\n",
       "        [  0],\n",
       "        [  0],\n",
       "        [  0],\n",
       "        [ 30],\n",
       "        [ 75],\n",
       "        [154],\n",
       "        [ 85],\n",
       "        [ 80],\n",
       "        [ 71],\n",
       "        [ 80],\n",
       "        [ 72],\n",
       "        [ 77],\n",
       "        [ 75],\n",
       "        [ 75],\n",
       "        [ 77],\n",
       "        [ 78],\n",
       "        [ 77],\n",
       "        [ 75],\n",
       "        [ 49],\n",
       "        [191],\n",
       "        [132],\n",
       "        [ 72],\n",
       "        [ 15],\n",
       "        [  0],\n",
       "        [  0],\n",
       "        [  0],\n",
       "        [  0]],\n",
       "\n",
       "       [[  0],\n",
       "        [  0],\n",
       "        [  0],\n",
       "        [  0],\n",
       "        [ 58],\n",
       "        [ 66],\n",
       "        [174],\n",
       "        [115],\n",
       "        [ 66],\n",
       "        [ 77],\n",
       "        [ 80],\n",
       "        [ 72],\n",
       "        [ 78],\n",
       "        [ 75],\n",
       "        [ 77],\n",
       "        [ 78],\n",
       "        [ 78],\n",
       "        [ 77],\n",
       "        [ 66],\n",
       "        [ 49],\n",
       "        [222],\n",
       "        [131],\n",
       "        [ 77],\n",
       "        [ 37],\n",
       "        [  0],\n",
       "        [  0],\n",
       "        [  0],\n",
       "        [  0]],\n",
       "\n",
       "       [[  0],\n",
       "        [  0],\n",
       "        [  0],\n",
       "        [  0],\n",
       "        [ 69],\n",
       "        [ 55],\n",
       "        [179],\n",
       "        [139],\n",
       "        [ 55],\n",
       "        [ 92],\n",
       "        [ 74],\n",
       "        [ 74],\n",
       "        [ 78],\n",
       "        [ 74],\n",
       "        [ 78],\n",
       "        [ 77],\n",
       "        [ 75],\n",
       "        [ 80],\n",
       "        [ 64],\n",
       "        [ 55],\n",
       "        [242],\n",
       "        [111],\n",
       "        [ 95],\n",
       "        [ 44],\n",
       "        [  0],\n",
       "        [  0],\n",
       "        [  0],\n",
       "        [  0]],\n",
       "\n",
       "       [[  0],\n",
       "        [  0],\n",
       "        [  0],\n",
       "        [  0],\n",
       "        [ 74],\n",
       "        [ 57],\n",
       "        [159],\n",
       "        [180],\n",
       "        [ 55],\n",
       "        [ 92],\n",
       "        [ 64],\n",
       "        [ 72],\n",
       "        [ 74],\n",
       "        [ 74],\n",
       "        [ 77],\n",
       "        [ 75],\n",
       "        [ 77],\n",
       "        [ 78],\n",
       "        [ 55],\n",
       "        [ 66],\n",
       "        [255],\n",
       "        [ 97],\n",
       "        [108],\n",
       "        [ 49],\n",
       "        [  0],\n",
       "        [  0],\n",
       "        [  0],\n",
       "        [  0]],\n",
       "\n",
       "       [[  0],\n",
       "        [  0],\n",
       "        [  0],\n",
       "        [  0],\n",
       "        [ 74],\n",
       "        [ 66],\n",
       "        [145],\n",
       "        [153],\n",
       "        [ 72],\n",
       "        [ 83],\n",
       "        [ 58],\n",
       "        [ 78],\n",
       "        [ 77],\n",
       "        [ 75],\n",
       "        [ 75],\n",
       "        [ 75],\n",
       "        [ 72],\n",
       "        [ 80],\n",
       "        [ 30],\n",
       "        [132],\n",
       "        [255],\n",
       "        [ 37],\n",
       "        [122],\n",
       "        [ 60],\n",
       "        [  0],\n",
       "        [  0],\n",
       "        [  0],\n",
       "        [  0]],\n",
       "\n",
       "       [[  0],\n",
       "        [  0],\n",
       "        [  0],\n",
       "        [  0],\n",
       "        [ 80],\n",
       "        [ 69],\n",
       "        [142],\n",
       "        [180],\n",
       "        [142],\n",
       "        [ 57],\n",
       "        [ 64],\n",
       "        [ 78],\n",
       "        [ 74],\n",
       "        [ 75],\n",
       "        [ 75],\n",
       "        [ 75],\n",
       "        [ 72],\n",
       "        [ 85],\n",
       "        [ 21],\n",
       "        [185],\n",
       "        [227],\n",
       "        [ 37],\n",
       "        [143],\n",
       "        [ 63],\n",
       "        [  0],\n",
       "        [  0],\n",
       "        [  0],\n",
       "        [  0]],\n",
       "\n",
       "       [[  0],\n",
       "        [  0],\n",
       "        [  0],\n",
       "        [  0],\n",
       "        [ 83],\n",
       "        [ 71],\n",
       "        [136],\n",
       "        [194],\n",
       "        [126],\n",
       "        [ 46],\n",
       "        [ 69],\n",
       "        [ 75],\n",
       "        [ 72],\n",
       "        [ 75],\n",
       "        [ 75],\n",
       "        [ 75],\n",
       "        [ 74],\n",
       "        [ 78],\n",
       "        [ 38],\n",
       "        [139],\n",
       "        [185],\n",
       "        [ 60],\n",
       "        [151],\n",
       "        [ 58],\n",
       "        [  0],\n",
       "        [  0],\n",
       "        [  0],\n",
       "        [  0]],\n",
       "\n",
       "       [[  0],\n",
       "        [  0],\n",
       "        [  0],\n",
       "        [  4],\n",
       "        [ 81],\n",
       "        [ 74],\n",
       "        [145],\n",
       "        [177],\n",
       "        [ 78],\n",
       "        [ 49],\n",
       "        [ 74],\n",
       "        [ 77],\n",
       "        [ 75],\n",
       "        [ 75],\n",
       "        [ 75],\n",
       "        [ 75],\n",
       "        [ 74],\n",
       "        [ 72],\n",
       "        [ 63],\n",
       "        [ 80],\n",
       "        [156],\n",
       "        [117],\n",
       "        [153],\n",
       "        [ 55],\n",
       "        [  0],\n",
       "        [  0],\n",
       "        [  0],\n",
       "        [  0]],\n",
       "\n",
       "       [[  0],\n",
       "        [  0],\n",
       "        [  0],\n",
       "        [ 10],\n",
       "        [ 80],\n",
       "        [ 72],\n",
       "        [157],\n",
       "        [163],\n",
       "        [ 61],\n",
       "        [ 55],\n",
       "        [ 75],\n",
       "        [ 77],\n",
       "        [ 75],\n",
       "        [ 77],\n",
       "        [ 75],\n",
       "        [ 75],\n",
       "        [ 75],\n",
       "        [ 77],\n",
       "        [ 71],\n",
       "        [ 60],\n",
       "        [ 98],\n",
       "        [156],\n",
       "        [132],\n",
       "        [ 58],\n",
       "        [  0],\n",
       "        [  0],\n",
       "        [  0],\n",
       "        [  0]],\n",
       "\n",
       "       [[  0],\n",
       "        [  0],\n",
       "        [  0],\n",
       "        [ 13],\n",
       "        [ 77],\n",
       "        [ 74],\n",
       "        [157],\n",
       "        [143],\n",
       "        [ 43],\n",
       "        [ 61],\n",
       "        [ 72],\n",
       "        [ 75],\n",
       "        [ 77],\n",
       "        [ 75],\n",
       "        [ 74],\n",
       "        [ 77],\n",
       "        [ 77],\n",
       "        [ 75],\n",
       "        [ 71],\n",
       "        [ 58],\n",
       "        [ 80],\n",
       "        [157],\n",
       "        [120],\n",
       "        [ 66],\n",
       "        [  0],\n",
       "        [  0],\n",
       "        [  0],\n",
       "        [  0]],\n",
       "\n",
       "       [[  0],\n",
       "        [  0],\n",
       "        [  0],\n",
       "        [ 18],\n",
       "        [ 81],\n",
       "        [ 74],\n",
       "        [156],\n",
       "        [114],\n",
       "        [ 35],\n",
       "        [ 72],\n",
       "        [ 71],\n",
       "        [ 75],\n",
       "        [ 78],\n",
       "        [ 72],\n",
       "        [ 66],\n",
       "        [ 80],\n",
       "        [ 78],\n",
       "        [ 77],\n",
       "        [ 75],\n",
       "        [ 64],\n",
       "        [ 63],\n",
       "        [165],\n",
       "        [119],\n",
       "        [ 68],\n",
       "        [  0],\n",
       "        [  0],\n",
       "        [  0],\n",
       "        [  0]],\n",
       "\n",
       "       [[  0],\n",
       "        [  0],\n",
       "        [  0],\n",
       "        [ 23],\n",
       "        [ 85],\n",
       "        [ 81],\n",
       "        [177],\n",
       "        [ 57],\n",
       "        [ 52],\n",
       "        [ 77],\n",
       "        [ 71],\n",
       "        [ 78],\n",
       "        [ 80],\n",
       "        [ 72],\n",
       "        [ 75],\n",
       "        [ 74],\n",
       "        [ 77],\n",
       "        [ 77],\n",
       "        [ 75],\n",
       "        [ 64],\n",
       "        [ 37],\n",
       "        [173],\n",
       "        [ 95],\n",
       "        [ 72],\n",
       "        [  0],\n",
       "        [  0],\n",
       "        [  0],\n",
       "        [  0]],\n",
       "\n",
       "       [[  0],\n",
       "        [  0],\n",
       "        [  0],\n",
       "        [ 26],\n",
       "        [ 81],\n",
       "        [ 86],\n",
       "        [160],\n",
       "        [ 20],\n",
       "        [ 75],\n",
       "        [ 77],\n",
       "        [ 77],\n",
       "        [ 80],\n",
       "        [ 78],\n",
       "        [ 80],\n",
       "        [ 89],\n",
       "        [ 78],\n",
       "        [ 81],\n",
       "        [ 83],\n",
       "        [ 80],\n",
       "        [ 74],\n",
       "        [ 20],\n",
       "        [177],\n",
       "        [ 77],\n",
       "        [ 74],\n",
       "        [  0],\n",
       "        [  0],\n",
       "        [  0],\n",
       "        [  0]],\n",
       "\n",
       "       [[  0],\n",
       "        [  0],\n",
       "        [  0],\n",
       "        [ 49],\n",
       "        [ 77],\n",
       "        [ 91],\n",
       "        [200],\n",
       "        [  0],\n",
       "        [ 83],\n",
       "        [ 95],\n",
       "        [ 86],\n",
       "        [ 88],\n",
       "        [ 88],\n",
       "        [ 89],\n",
       "        [ 88],\n",
       "        [ 89],\n",
       "        [ 88],\n",
       "        [ 83],\n",
       "        [ 89],\n",
       "        [ 86],\n",
       "        [  0],\n",
       "        [191],\n",
       "        [ 78],\n",
       "        [ 80],\n",
       "        [ 24],\n",
       "        [  0],\n",
       "        [  0],\n",
       "        [  0]],\n",
       "\n",
       "       [[  0],\n",
       "        [  0],\n",
       "        [  0],\n",
       "        [ 54],\n",
       "        [ 71],\n",
       "        [108],\n",
       "        [165],\n",
       "        [  0],\n",
       "        [ 24],\n",
       "        [ 57],\n",
       "        [ 52],\n",
       "        [ 57],\n",
       "        [ 60],\n",
       "        [ 60],\n",
       "        [ 60],\n",
       "        [ 63],\n",
       "        [ 63],\n",
       "        [ 77],\n",
       "        [ 89],\n",
       "        [ 52],\n",
       "        [  0],\n",
       "        [211],\n",
       "        [ 97],\n",
       "        [ 77],\n",
       "        [ 61],\n",
       "        [  0],\n",
       "        [  0],\n",
       "        [  0]],\n",
       "\n",
       "       [[  0],\n",
       "        [  0],\n",
       "        [  0],\n",
       "        [ 68],\n",
       "        [ 91],\n",
       "        [117],\n",
       "        [137],\n",
       "        [  0],\n",
       "        [  0],\n",
       "        [  0],\n",
       "        [  0],\n",
       "        [  0],\n",
       "        [  0],\n",
       "        [  0],\n",
       "        [  0],\n",
       "        [  0],\n",
       "        [  0],\n",
       "        [  0],\n",
       "        [  0],\n",
       "        [  0],\n",
       "        [ 18],\n",
       "        [216],\n",
       "        [ 94],\n",
       "        [ 97],\n",
       "        [ 57],\n",
       "        [  0],\n",
       "        [  0],\n",
       "        [  0]],\n",
       "\n",
       "       [[  0],\n",
       "        [  0],\n",
       "        [  0],\n",
       "        [ 54],\n",
       "        [115],\n",
       "        [105],\n",
       "        [185],\n",
       "        [  0],\n",
       "        [  0],\n",
       "        [  1],\n",
       "        [  0],\n",
       "        [  0],\n",
       "        [  0],\n",
       "        [  0],\n",
       "        [  0],\n",
       "        [  0],\n",
       "        [  0],\n",
       "        [  0],\n",
       "        [  0],\n",
       "        [  0],\n",
       "        [  0],\n",
       "        [153],\n",
       "        [ 78],\n",
       "        [106],\n",
       "        [ 37],\n",
       "        [  0],\n",
       "        [  0],\n",
       "        [  0]],\n",
       "\n",
       "       [[  0],\n",
       "        [  0],\n",
       "        [  0],\n",
       "        [ 18],\n",
       "        [ 61],\n",
       "        [ 41],\n",
       "        [103],\n",
       "        [  0],\n",
       "        [  0],\n",
       "        [  0],\n",
       "        [  0],\n",
       "        [  0],\n",
       "        [  0],\n",
       "        [  0],\n",
       "        [  0],\n",
       "        [  0],\n",
       "        [  0],\n",
       "        [  0],\n",
       "        [  0],\n",
       "        [  0],\n",
       "        [  0],\n",
       "        [106],\n",
       "        [ 47],\n",
       "        [ 69],\n",
       "        [ 23],\n",
       "        [  0],\n",
       "        [  0],\n",
       "        [  0]]], dtype=uint8)"
      ]
     },
     "execution_count": 18,
     "metadata": {},
     "output_type": "execute_result"
    }
   ],
   "source": [
    "image.numpy()"
   ]
  },
  {
   "cell_type": "code",
   "execution_count": 19,
   "metadata": {},
   "outputs": [
    {
     "data": {
      "text/plain": [
       "2"
      ]
     },
     "execution_count": 19,
     "metadata": {},
     "output_type": "execute_result"
    }
   ],
   "source": [
    "label.numpy()"
   ]
  },
  {
   "cell_type": "code",
   "execution_count": 20,
   "metadata": {},
   "outputs": [
    {
     "data": {
      "text/plain": [
       "'Pullover'"
      ]
     },
     "execution_count": 20,
     "metadata": {},
     "output_type": "execute_result"
    }
   ],
   "source": [
    "info.features['label'].int2str(label.numpy())"
   ]
  },
  {
   "cell_type": "markdown",
   "metadata": {},
   "source": [
    "#### Preparando o pipeline de dados"
   ]
  },
  {
   "cell_type": "code",
   "execution_count": 21,
   "metadata": {},
   "outputs": [],
   "source": [
    "TRAIN_LENGHT = info.splits['train'].num_examples\n",
    "TEST_LENGHT = info.splits['test'].num_examples\n",
    "NUM_CLASSES = info.features['label'].num_classes"
   ]
  },
  {
   "cell_type": "code",
   "execution_count": 22,
   "metadata": {},
   "outputs": [],
   "source": [
    "EPOCHS = 10\n",
    "BATCH_SIZE = 128"
   ]
  },
  {
   "cell_type": "code",
   "execution_count": 23,
   "metadata": {},
   "outputs": [],
   "source": [
    "def apply_agumentation(image, label):\n",
    "    image = tf.image.random_flip_left_right(image)\n",
    "    \n",
    "    return image, label"
   ]
  },
  {
   "cell_type": "code",
   "execution_count": 24,
   "metadata": {},
   "outputs": [],
   "source": [
    "fmnist_train = fmnist_train.map(apply_agumentation, num_parallel_calls=AUTOTUNE)\n",
    "fmnist_train = fmnist_train.shuffle(buffer_size=TRAIN_LENGHT)\n",
    "fmnist_train = fmnist_train.batch(BATCH_SIZE, drop_remainder=True)\n",
    "fmnist_train = fmnist_train.prefetch(buffer_size=AUTOTUNE)"
   ]
  },
  {
   "cell_type": "code",
   "execution_count": 25,
   "metadata": {},
   "outputs": [],
   "source": [
    "images, labels = next(iter(fmnist_train))"
   ]
  },
  {
   "cell_type": "code",
   "execution_count": 26,
   "metadata": {},
   "outputs": [
    {
     "data": {
      "text/plain": [
       "TensorShape([128, 28, 28, 1])"
      ]
     },
     "execution_count": 26,
     "metadata": {},
     "output_type": "execute_result"
    }
   ],
   "source": [
    "images.shape"
   ]
  },
  {
   "cell_type": "code",
   "execution_count": 27,
   "metadata": {},
   "outputs": [
    {
     "data": {
      "text/plain": [
       "TensorShape([128])"
      ]
     },
     "execution_count": 27,
     "metadata": {},
     "output_type": "execute_result"
    }
   ],
   "source": [
    "labels.shape"
   ]
  },
  {
   "cell_type": "code",
   "execution_count": 28,
   "metadata": {},
   "outputs": [
    {
     "data": {
      "text/plain": [
       "<tf.Tensor: shape=(128,), dtype=int64, numpy=\n",
       "array([4, 3, 4, 3, 2, 8, 0, 1, 6, 6, 9, 6, 9, 5, 9, 0, 2, 1, 3, 0, 6, 7,\n",
       "       4, 5, 3, 0, 8, 8, 1, 0, 5, 7, 9, 4, 3, 7, 2, 4, 1, 5, 9, 8, 7, 1,\n",
       "       6, 3, 9, 5, 2, 0, 2, 6, 7, 6, 8, 3, 9, 6, 7, 5, 1, 6, 7, 1, 7, 1,\n",
       "       3, 4, 5, 4, 2, 9, 6, 4, 7, 2, 3, 6, 3, 9, 1, 6, 6, 5, 9, 9, 0, 3,\n",
       "       6, 4, 1, 0, 9, 3, 1, 8, 1, 1, 0, 3, 4, 4, 3, 4, 1, 8, 6, 9, 1, 3,\n",
       "       1, 6, 1, 9, 7, 7, 1, 6, 0, 9, 7, 3, 8, 9, 7, 2, 1, 1])>"
      ]
     },
     "execution_count": 28,
     "metadata": {},
     "output_type": "execute_result"
    }
   ],
   "source": [
    "labels"
   ]
  },
  {
   "cell_type": "markdown",
   "metadata": {},
   "source": [
    "No teste não precisamos aleatorizar as instâncias:"
   ]
  },
  {
   "cell_type": "code",
   "execution_count": 29,
   "metadata": {},
   "outputs": [],
   "source": [
    "fmnist_test = fmnist_test.batch(BATCH_SIZE, drop_remainder=True)\n",
    "fmnist_test = fmnist_test.prefetch(buffer_size=AUTOTUNE)"
   ]
  },
  {
   "cell_type": "markdown",
   "metadata": {},
   "source": [
    "### Construindo o modelo"
   ]
  },
  {
   "cell_type": "code",
   "execution_count": 30,
   "metadata": {},
   "outputs": [],
   "source": [
    "model = keras.Sequential()\n",
    "model.add(keras.layers.Conv2D(32, (3, 3), padding='same', activation='relu', input_shape=(28, 28, 1)))\n",
    "model.add(keras.layers.BatchNormalization())\n",
    "model.add(keras.layers.MaxPool2D((2, 2)))\n",
    "model.add(keras.layers.Conv2D(64, (3, 3), padding='same', activation='relu'))\n",
    "model.add(keras.layers.BatchNormalization())\n",
    "model.add(keras.layers.MaxPool2D((2, 2)))\n",
    "model.add(keras.layers.Conv2D(128, (3, 3), padding='same', activation='relu'))\n",
    "model.add(keras.layers.BatchNormalization())\n",
    "model.add(keras.layers.GlobalAveragePooling2D())\n",
    "model.add(keras.layers.Dense(64, activation='relu'))\n",
    "model.add(keras.layers.Dense(10))"
   ]
  },
  {
   "cell_type": "code",
   "execution_count": 31,
   "metadata": {},
   "outputs": [
    {
     "name": "stdout",
     "output_type": "stream",
     "text": [
      "Model: \"sequential\"\n",
      "_________________________________________________________________\n",
      "Layer (type)                 Output Shape              Param #   \n",
      "=================================================================\n",
      "conv2d (Conv2D)              (None, 28, 28, 32)        320       \n",
      "_________________________________________________________________\n",
      "batch_normalization (BatchNo (None, 28, 28, 32)        128       \n",
      "_________________________________________________________________\n",
      "max_pooling2d (MaxPooling2D) (None, 14, 14, 32)        0         \n",
      "_________________________________________________________________\n",
      "conv2d_1 (Conv2D)            (None, 14, 14, 64)        18496     \n",
      "_________________________________________________________________\n",
      "batch_normalization_1 (Batch (None, 14, 14, 64)        256       \n",
      "_________________________________________________________________\n",
      "max_pooling2d_1 (MaxPooling2 (None, 7, 7, 64)          0         \n",
      "_________________________________________________________________\n",
      "conv2d_2 (Conv2D)            (None, 7, 7, 128)         73856     \n",
      "_________________________________________________________________\n",
      "batch_normalization_2 (Batch (None, 7, 7, 128)         512       \n",
      "_________________________________________________________________\n",
      "global_average_pooling2d (Gl (None, 128)               0         \n",
      "_________________________________________________________________\n",
      "dense (Dense)                (None, 64)                8256      \n",
      "_________________________________________________________________\n",
      "dense_1 (Dense)              (None, 10)                650       \n",
      "=================================================================\n",
      "Total params: 102,474\n",
      "Trainable params: 102,026\n",
      "Non-trainable params: 448\n",
      "_________________________________________________________________\n"
     ]
    }
   ],
   "source": [
    "model.summary()"
   ]
  },
  {
   "cell_type": "markdown",
   "metadata": {},
   "source": [
    "Como os nossos rótulos são inteiros, utilizamos a função de loss SparseCategoricalCrossentropy. Se quisermos utilizar o formato one-hot, deve-se trocar a função de loss por CategoricalCrossentropy:"
   ]
  },
  {
   "cell_type": "code",
   "execution_count": 32,
   "metadata": {},
   "outputs": [],
   "source": [
    "model.compile(\n",
    "    loss=tf.keras.losses.SparseCategoricalCrossentropy(from_logits=True),\n",
    "    optimizer='adam',\n",
    "    metrics=['accuracy'])"
   ]
  },
  {
   "cell_type": "markdown",
   "metadata": {},
   "source": [
    "### Treinamento"
   ]
  },
  {
   "cell_type": "code",
   "execution_count": 33,
   "metadata": {},
   "outputs": [
    {
     "name": "stdout",
     "output_type": "stream",
     "text": [
      "Epoch 1/10\n",
      "468/468 [==============================] - 3s 7ms/step - loss: 0.4858 - accuracy: 0.8313 - val_loss: 0.4701 - val_accuracy: 0.8380\n",
      "Epoch 2/10\n",
      "468/468 [==============================] - 3s 6ms/step - loss: 0.2891 - accuracy: 0.8960 - val_loss: 0.3114 - val_accuracy: 0.8880\n",
      "Epoch 3/10\n",
      "468/468 [==============================] - 3s 7ms/step - loss: 0.2457 - accuracy: 0.9112 - val_loss: 0.3413 - val_accuracy: 0.8756\n",
      "Epoch 4/10\n",
      "468/468 [==============================] - 3s 6ms/step - loss: 0.2210 - accuracy: 0.9201 - val_loss: 0.2886 - val_accuracy: 0.8928\n",
      "Epoch 5/10\n",
      "468/468 [==============================] - 3s 6ms/step - loss: 0.2060 - accuracy: 0.9245 - val_loss: 0.2853 - val_accuracy: 0.8977\n",
      "Epoch 6/10\n",
      "468/468 [==============================] - 3s 7ms/step - loss: 0.1942 - accuracy: 0.9281 - val_loss: 0.2471 - val_accuracy: 0.9109\n",
      "Epoch 7/10\n",
      "468/468 [==============================] - 3s 7ms/step - loss: 0.1827 - accuracy: 0.9332 - val_loss: 0.3391 - val_accuracy: 0.8828\n",
      "Epoch 8/10\n",
      "468/468 [==============================] - 3s 6ms/step - loss: 0.1717 - accuracy: 0.9377 - val_loss: 0.2700 - val_accuracy: 0.9067\n",
      "Epoch 9/10\n",
      "468/468 [==============================] - 3s 7ms/step - loss: 0.1627 - accuracy: 0.9401 - val_loss: 0.2709 - val_accuracy: 0.9008\n",
      "Epoch 10/10\n",
      "468/468 [==============================] - 3s 7ms/step - loss: 0.1534 - accuracy: 0.9435 - val_loss: 0.2844 - val_accuracy: 0.9049\n"
     ]
    }
   ],
   "source": [
    "history = model.fit(fmnist_train,\n",
    "                      epochs=EPOCHS,\n",
    "                      validation_data=fmnist_test,\n",
    "                      validation_steps=TEST_LENGHT // BATCH_SIZE)"
   ]
  },
  {
   "cell_type": "markdown",
   "metadata": {},
   "source": [
    "### Resultados"
   ]
  },
  {
   "cell_type": "code",
   "execution_count": 34,
   "metadata": {},
   "outputs": [
    {
     "data": {
      "image/png": "[encoded data removed]",
      "text/plain": [
       "<Figure size 432x288 with 1 Axes>"
      ]
     },
     "metadata": {
      "needs_background": "light"
     },
     "output_type": "display_data"
    }
   ],
   "source": [
    "plt.plot(history.history['accuracy'])\n",
    "plt.plot(history.history['val_accuracy'])\n",
    "plt.ylim([0.7, 1])\n",
    "plt.title('Acurácia do Modelo')\n",
    "plt.ylabel('acurácia')\n",
    "plt.xlabel('Época')\n",
    "plt.legend(['train', 'test'], loc='lower left')\n",
    "plt.show()"
   ]
  },
  {
   "cell_type": "code",
   "execution_count": 35,
   "metadata": {},
   "outputs": [
    {
     "data": {
      "image/png": "[encoded data removed]",
      "text/plain": [
       "<Figure size 432x288 with 1 Axes>"
      ]
     },
     "metadata": {
      "needs_background": "light"
     },
     "output_type": "display_data"
    }
   ],
   "source": [
    "plt.plot(history.history['loss'])\n",
    "plt.plot(history.history['val_loss'])\n",
    "plt.ylim([0.1, 0.7])\n",
    "plt.title('Loss do Modelo')\n",
    "plt.ylabel('loss')\n",
    "plt.xlabel('Época')\n",
    "plt.legend(['train', 'test'], loc='lower left')\n",
    "plt.show()"
   ]
  },
  {
   "cell_type": "markdown",
   "metadata": {},
   "source": [
    "### Predição"
   ]
  },
  {
   "cell_type": "code",
   "execution_count": 36,
   "metadata": {},
   "outputs": [],
   "source": [
    "def format_label(label):\n",
    "    return info.features['label'].int2str(label)"
   ]
  },
  {
   "cell_type": "code",
   "execution_count": 37,
   "metadata": {},
   "outputs": [],
   "source": [
    "features, labels = next(iter(fmnist_test))"
   ]
  },
  {
   "cell_type": "code",
   "execution_count": 38,
   "metadata": {},
   "outputs": [
    {
     "data": {
      "text/plain": [
       "<matplotlib.image.AxesImage at 0x7f2d10fdf390>"
      ]
     },
     "execution_count": 38,
     "metadata": {},
     "output_type": "execute_result"
    },
    {
     "data": {
      "image/png": "[encoded data removed]",
      "text/plain": [
       "<Figure size 432x288 with 1 Axes>"
      ]
     },
     "metadata": {
      "needs_background": "light"
     },
     "output_type": "display_data"
    }
   ],
   "source": [
    "plt.imshow(features.numpy()[0].reshape(28, 28), cmap='gray')"
   ]
  },
  {
   "cell_type": "code",
   "execution_count": 39,
   "metadata": {},
   "outputs": [
    {
     "data": {
      "text/plain": [
       "'Ankle boot'"
      ]
     },
     "execution_count": 39,
     "metadata": {},
     "output_type": "execute_result"
    }
   ],
   "source": [
    "info.features['label'].int2str(labels.numpy()[0])"
   ]
  },
  {
   "cell_type": "code",
   "execution_count": 40,
   "metadata": {},
   "outputs": [],
   "source": [
    "predictions = model.predict(features.numpy())"
   ]
  },
  {
   "cell_type": "code",
   "execution_count": 41,
   "metadata": {},
   "outputs": [
    {
     "data": {
      "text/plain": [
       "array([-4.7604313 , -5.609596  , -6.2422547 , -3.555223  , -7.353157  ,\n",
       "       -0.99748856, -6.4262013 ,  1.3477979 , -2.0708833 ,  4.681302  ],\n",
       "      dtype=float32)"
      ]
     },
     "execution_count": 41,
     "metadata": {},
     "output_type": "execute_result"
    }
   ],
   "source": [
    "predictions[0]"
   ]
  },
  {
   "cell_type": "code",
   "execution_count": 42,
   "metadata": {},
   "outputs": [
    {
     "name": "stdout",
     "output_type": "stream",
     "text": [
      "Predição: Ankle boot, Real: Ankle boot\n",
      "Predição: Coat, Real: Coat\n",
      "Predição: Coat, Real: Coat\n",
      "Predição: Sneaker, Real: Sneaker\n",
      "Predição: Sandal, Real: Sandal\n",
      "Predição: Trouser, Real: Trouser\n",
      "Predição: T-shirt/top, Real: T-shirt/top\n",
      "Predição: Sandal, Real: Sandal\n",
      "Predição: Sneaker, Real: Sneaker\n",
      "Predição: Coat, Real: Coat\n",
      "Predição: Bag, Real: Bag\n",
      "Predição: Pullover, Real: Pullover\n",
      "Predição: Sneaker, Real: Sneaker\n",
      "Predição: T-shirt/top, Real: T-shirt/top\n",
      "Predição: Dress, Real: Dress\n",
      "Predição: Ankle boot, Real: Ankle boot\n",
      "Predição: T-shirt/top, Real: T-shirt/top\n",
      "Predição: Sneaker, Real: Sneaker\n",
      "Predição: Pullover, Real: Pullover\n",
      "Predição: Pullover, Real: Pullover\n",
      "Predição: T-shirt/top, Real: T-shirt/top\n",
      "Predição: Coat, Real: Coat\n",
      "Predição: Coat, Real: Coat\n",
      "Predição: T-shirt/top, Real: Pullover\n",
      "Predição: Sandal, Real: Sandal\n",
      "Predição: Coat, Real: Coat\n",
      "Predição: Sneaker, Real: Sneaker\n",
      "Predição: Sneaker, Real: Sneaker\n",
      "Predição: Coat, Real: Coat\n",
      "Predição: Pullover, Real: Pullover\n",
      "Predição: Pullover, Real: Coat\n",
      "Predição: Sneaker, Real: Sneaker\n",
      "Predição: Ankle boot, Real: Ankle boot\n",
      "Predição: Sandal, Real: Sandal\n",
      "Predição: Coat, Real: Coat\n",
      "Predição: Dress, Real: Dress\n",
      "Predição: Coat, Real: Coat\n",
      "Predição: Dress, Real: Dress\n",
      "Predição: Trouser, Real: Trouser\n",
      "Predição: Sneaker, Real: Sneaker\n",
      "Predição: Sandal, Real: Sandal\n",
      "Predição: Dress, Real: Dress\n",
      "Predição: T-shirt/top, Real: T-shirt/top\n",
      "Predição: T-shirt/top, Real: T-shirt/top\n",
      "Predição: T-shirt/top, Real: T-shirt/top\n",
      "Predição: Shirt, Real: Shirt\n",
      "Predição: Ankle boot, Real: Ankle boot\n",
      "Predição: Ankle boot, Real: Ankle boot\n",
      "Predição: Sneaker, Real: Sneaker\n",
      "Predição: Shirt, Real: Shirt\n",
      "Predição: Pullover, Real: Pullover\n",
      "Predição: T-shirt/top, Real: T-shirt/top\n",
      "Predição: T-shirt/top, Real: T-shirt/top\n",
      "Predição: Ankle boot, Real: Ankle boot\n",
      "Predição: Shirt, Real: Shirt\n",
      "Predição: Trouser, Real: Trouser\n",
      "Predição: Sandal, Real: Sandal\n",
      "Predição: Sneaker, Real: Sneaker\n",
      "Predição: T-shirt/top, Real: T-shirt/top\n",
      "Predição: Pullover, Real: Pullover\n",
      "Predição: Ankle boot, Real: Ankle boot\n",
      "Predição: Trouser, Real: Trouser\n",
      "Predição: Sneaker, Real: Sneaker\n",
      "Predição: Pullover, Real: Pullover\n",
      "Predição: Pullover, Real: Pullover\n",
      "Predição: Shirt, Real: Pullover\n",
      "Predição: Shirt, Real: Shirt\n",
      "Predição: T-shirt/top, Real: Shirt\n",
      "Predição: Coat, Real: Coat\n",
      "Predição: Sandal, Real: Sandal\n",
      "Predição: Sandal, Real: Sandal\n",
      "Predição: Shirt, Real: Shirt\n",
      "Predição: Pullover, Real: Pullover\n",
      "Predição: Dress, Real: Dress\n",
      "Predição: Shirt, Real: Shirt\n",
      "Predição: Coat, Real: Coat\n",
      "Predição: Trouser, Real: Trouser\n",
      "Predição: Shirt, Real: Shirt\n",
      "Predição: Coat, Real: Coat\n",
      "Predição: Coat, Real: Coat\n",
      "Predição: T-shirt/top, Real: Shirt\n",
      "Predição: Sandal, Real: Sandal\n",
      "Predição: Bag, Real: Bag\n",
      "Predição: Sneaker, Real: Ankle boot\n",
      "Predição: Pullover, Real: Pullover\n",
      "Predição: Sandal, Real: Sandal\n",
      "Predição: Trouser, Real: Trouser\n",
      "Predição: Ankle boot, Real: Ankle boot\n",
      "Predição: Pullover, Real: Coat\n",
      "Predição: Trouser, Real: Trouser\n",
      "Predição: T-shirt/top, Real: T-shirt/top\n",
      "Predição: Sandal, Real: Sandal\n",
      "Predição: Trouser, Real: Trouser\n",
      "Predição: Bag, Real: Bag\n",
      "Predição: Shirt, Real: Coat\n",
      "Predição: T-shirt/top, Real: T-shirt/top\n",
      "Predição: T-shirt/top, Real: T-shirt/top\n",
      "Predição: T-shirt/top, Real: T-shirt/top\n",
      "Predição: Coat, Real: Coat\n",
      "Predição: Dress, Real: Coat\n",
      "Predição: Shirt, Real: Shirt\n",
      "Predição: Sandal, Real: Sandal\n",
      "Predição: Ankle boot, Real: Ankle boot\n",
      "Predição: Pullover, Real: Pullover\n",
      "Predição: Trouser, Real: Trouser\n",
      "Predição: Sandal, Real: Sandal\n",
      "Predição: Sneaker, Real: Ankle boot\n",
      "Predição: Coat, Real: Coat\n",
      "Predição: Pullover, Real: Pullover\n",
      "Predição: Sandal, Real: Sandal\n",
      "Predição: Pullover, Real: Coat\n",
      "Predição: Shirt, Real: Shirt\n",
      "Predição: Dress, Real: Dress\n",
      "Predição: Sneaker, Real: Sneaker\n",
      "Predição: Pullover, Real: Pullover\n",
      "Predição: Shirt, Real: Coat\n",
      "Predição: Sneaker, Real: Sneaker\n",
      "Predição: Ankle boot, Real: Ankle boot\n",
      "Predição: Sandal, Real: Sandal\n",
      "Predição: Sneaker, Real: Sneaker\n",
      "Predição: Trouser, Real: Dress\n",
      "Predição: Coat, Real: Coat\n",
      "Predição: Pullover, Real: Pullover\n",
      "Predição: Trouser, Real: Trouser\n",
      "Predição: Trouser, Real: Trouser\n",
      "Predição: T-shirt/top, Real: T-shirt/top\n",
      "Predição: Sneaker, Real: Sandal\n",
      "Predição: Trouser, Real: Trouser\n"
     ]
    }
   ],
   "source": [
    "for pred, label in zip(predictions, labels.numpy()):\n",
    "    print(\"Predição: {}, Real: {}\".format(format_label(tf.argmax(pred).numpy()),\n",
    "                                        format_label(label)))"
   ]
  },
  {
   "cell_type": "markdown",
   "metadata": {},
   "source": [
    "### Referências"
   ]
  },
  {
   "cell_type": "markdown",
   "metadata": {},
   "source": [
    "[1] Goodfellow, Ian, Yoshua Bengio, and Aaron Courville. Deep learning. MIT press, 2016.\n",
    "\n",
    "[2] How to plot an animated matrix in matplotlib. StackOverflow. Disponível em: https://stackoverflow.com/questions/52067833/how-to-plot-an-animated-matrix-in-matplotlib . Acesso em: 09 de julho de 2020\n",
    "\n",
    "[3] Dumoulin, Vincent, and Francesco Visin. \"A guide to convolution arithmetic for deep learning.\" arXiv preprint arXiv:1603.07285 (2016).\n",
    "\n",
    "[4] LeCun, Yann, Corinna Cortes, and C. J. Burges. \"MNIST handwritten digit database.\" (2010): 18.\n",
    "\n",
    "[5] Xiao, Han, Kashif Rasul, and Roland Vollgraf. \"Fashion-mnist: a novel image dataset for benchmarking machine learning algorithms.\" arXiv preprint arXiv:1708.07747 (2017)."
   ]
  }
 ],
 "metadata": {
  "kernelspec": {
   "display_name": "Python 3",
   "language": "python",
   "name": "python3"
  },
  "language_info": {
   "codemirror_mode": {
    "name": "ipython",
    "version": 3
   },
   "file_extension": ".py",
   "mimetype": "text/x-python",
   "name": "python",
   "nbconvert_exporter": "python",
   "pygments_lexer": "ipython3",
   "version": "3.6.9"
  }
 },
 "nbformat": 4,
 "nbformat_minor": 4
}
