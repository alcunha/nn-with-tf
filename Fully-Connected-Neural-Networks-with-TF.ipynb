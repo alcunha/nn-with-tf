{
 "cells": [
  {
   "cell_type": "code",
   "execution_count": null,
   "metadata": {},
   "outputs": [],
   "source": [
    "# MIT License\n",
    "#\n",
    "# Copyright (c) 2020 Fagner Cunha\n",
    "#\n",
    "# Permission is hereby granted, free of charge, to any person obtaining a\n",
    "# copy of this software and associated documentation files (the \"Software\"),\n",
    "# to deal in the Software without restriction, including without limitation\n",
    "# the rights to use, copy, modify, merge, publish, distribute, sublicense,\n",
    "# and/or sell copies of the Software, and to permit persons to whom the\n",
    "# Software is furnished to do so, subject to the following conditions:\n",
    "#\n",
    "# The above copyright notice and this permission notice shall be included in\n",
    "# all copies or substantial portions of the Software.\n",
    "#\n",
    "# THE SOFTWARE IS PROVIDED \"AS IS\", WITHOUT WARRANTY OF ANY KIND, EXPRESS OR\n",
    "# IMPLIED, INCLUDING BUT NOT LIMITED TO THE WARRANTIES OF MERCHANTABILITY,\n",
    "# FITNESS FOR A PARTICULAR PURPOSE AND NONINFRINGEMENT. IN NO EVENT SHALL\n",
    "# THE AUTHORS OR COPYRIGHT HOLDERS BE LIABLE FOR ANY CLAIM, DAMAGES OR OTHER\n",
    "# LIABILITY, WHETHER IN AN ACTION OF CONTRACT, TORT OR OTHERWISE, ARISING\n",
    "# FROM, OUT OF OR IN CONNECTION WITH THE SOFTWARE OR THE USE OR OTHER\n",
    "# DEALINGS IN THE SOFTWARE."
   ]
  },
  {
   "cell_type": "markdown",
   "metadata": {},
   "source": [
    "# Redes Neurais Completamente Conectadas com TensorFlow\n",
    "\n",
    "<table align=\"left\">\n",
    "  <td>\n",
    "    <a href=\"https://colab.research.google.com/github/alcunha/nn-with-tf/blob/master/Fully-Connected-Neural-Networks-with-TF.ipynb\"><img src=\"./images/colab_logo_32px.png\" />Executar no Google Colab</a>\n",
    "  </td>\n",
    "  <td>\n",
    "    <a href=\"https://github.com/alcunha/nn-with-tf/blob/master/Fully-Connected-Neural-Networks-with-TF.ipynb\"><img src=\"./images/GitHub-Mark-32px.png\" />Ver código no GitHub</a>\n",
    "  </td>\n",
    "</table>"
   ]
  },
  {
   "cell_type": "markdown",
   "metadata": {},
   "source": [
    "*“NÃO ENTRE EM PÂNICO”*\n",
    "\n",
    "(O Guia do Mochileiro das Galáxias)"
   ]
  },
  {
   "cell_type": "code",
   "execution_count": null,
   "metadata": {},
   "outputs": [],
   "source": [
    "! pip install tensorflow pandas matplotlib"
   ]
  },
  {
   "cell_type": "code",
   "execution_count": 1,
   "metadata": {},
   "outputs": [],
   "source": [
    "import tensorflow as tf\n",
    "import pandas as pd\n",
    "import matplotlib.pyplot as plt\n",
    "\n",
    "from tensorflow import keras"
   ]
  },
  {
   "cell_type": "markdown",
   "metadata": {},
   "source": [
    "## Tensores\n",
    "\n",
    "Tensores são arrays multi-dimensionais com um mesmo tipo (**dtype**)."
   ]
  },
  {
   "cell_type": "markdown",
   "metadata": {},
   "source": [
    "#### Rank 0 (\"Escalar\")"
   ]
  },
  {
   "cell_type": "code",
   "execution_count": 2,
   "metadata": {},
   "outputs": [],
   "source": [
    "a = tf.constant(4)\n",
    "b = tf.constant(3.2)\n",
    "c = tf.constant('casa')"
   ]
  },
  {
   "cell_type": "code",
   "execution_count": 3,
   "metadata": {},
   "outputs": [
    {
     "name": "stdout",
     "output_type": "stream",
     "text": [
      "tf.Tensor(4, shape=(), dtype=int32)\n",
      "tf.Tensor(3.2, shape=(), dtype=float32)\n",
      "tf.Tensor(b'casa', shape=(), dtype=string)\n"
     ]
    }
   ],
   "source": [
    "print(a)\n",
    "print(b)\n",
    "print(c)"
   ]
  },
  {
   "cell_type": "markdown",
   "metadata": {},
   "source": [
    "#### Rank 1 (\"Vetor\")"
   ]
  },
  {
   "cell_type": "code",
   "execution_count": 4,
   "metadata": {},
   "outputs": [],
   "source": [
    "list1 = tf.constant([4, 3])\n",
    "list2 = tf.constant([3.2, 2])\n",
    "list3 = tf.constant(['casa', 'rua'])"
   ]
  },
  {
   "cell_type": "code",
   "execution_count": 5,
   "metadata": {},
   "outputs": [
    {
     "name": "stdout",
     "output_type": "stream",
     "text": [
      "tf.Tensor([4 3], shape=(2,), dtype=int32)\n",
      "tf.Tensor([3.2 2. ], shape=(2,), dtype=float32)\n",
      "tf.Tensor([b'casa' b'rua'], shape=(2,), dtype=string)\n"
     ]
    }
   ],
   "source": [
    "print(list1)\n",
    "print(list2)\n",
    "print(list3)"
   ]
  },
  {
   "cell_type": "markdown",
   "metadata": {},
   "source": [
    "Lista com tipos diferentes vai gerar erro:"
   ]
  },
  {
   "cell_type": "code",
   "execution_count": 6,
   "metadata": {},
   "outputs": [],
   "source": [
    "#list4 = tf.constant(['casa', 4])"
   ]
  },
  {
   "cell_type": "markdown",
   "metadata": {},
   "source": [
    "#### Rank 2 (\"Matriz\")"
   ]
  },
  {
   "cell_type": "code",
   "execution_count": 7,
   "metadata": {},
   "outputs": [],
   "source": [
    "mat1 = tf.constant([[2, 3],\n",
    "                    [4, 5]])\n",
    "mat2 = tf.constant([[1, 1],\n",
    "                    [1, 1.]])"
   ]
  },
  {
   "cell_type": "code",
   "execution_count": 8,
   "metadata": {},
   "outputs": [
    {
     "name": "stdout",
     "output_type": "stream",
     "text": [
      "tf.Tensor(\n",
      "[[2 3]\n",
      " [4 5]], shape=(2, 2), dtype=int32)\n",
      "tf.Tensor(\n",
      "[[1. 1.]\n",
      " [1. 1.]], shape=(2, 2), dtype=float32)\n"
     ]
    }
   ],
   "source": [
    "print(mat1)\n",
    "print(mat2)"
   ]
  },
  {
   "cell_type": "markdown",
   "metadata": {},
   "source": [
    "Convertendo os valores de um tensor para o NumPy:"
   ]
  },
  {
   "cell_type": "code",
   "execution_count": 9,
   "metadata": {},
   "outputs": [
    {
     "data": {
      "text/plain": [
       "array([[2, 3],\n",
       "       [4, 5]], dtype=int32)"
      ]
     },
     "execution_count": 9,
     "metadata": {},
     "output_type": "execute_result"
    }
   ],
   "source": [
    "mat1.numpy()"
   ]
  },
  {
   "cell_type": "code",
   "execution_count": 10,
   "metadata": {},
   "outputs": [
    {
     "name": "stdout",
     "output_type": "stream",
     "text": [
      "tf.Tensor(\n",
      "[[0 0 0]\n",
      " [0 0 0]], shape=(2, 3), dtype=int32)\n"
     ]
    }
   ],
   "source": [
    "zeros = tf.zeros([2, 3], dtype=tf.int32)\n",
    "print(zeros)"
   ]
  },
  {
   "cell_type": "code",
   "execution_count": 11,
   "metadata": {},
   "outputs": [
    {
     "name": "stdout",
     "output_type": "stream",
     "text": [
      "tf.Tensor(\n",
      "[[[1. 1.]\n",
      "  [1. 1.]\n",
      "  [1. 1.]]\n",
      "\n",
      " [[1. 1.]\n",
      "  [1. 1.]\n",
      "  [1. 1.]]\n",
      "\n",
      " [[1. 1.]\n",
      "  [1. 1.]\n",
      "  [1. 1.]]], shape=(3, 3, 2), dtype=float32)\n"
     ]
    }
   ],
   "source": [
    "ones = tf.ones([3, 3, 2], dtype=tf.float32)\n",
    "print(ones)"
   ]
  },
  {
   "cell_type": "code",
   "execution_count": 12,
   "metadata": {},
   "outputs": [
    {
     "data": {
      "text/plain": [
       "<tf.Tensor: shape=(2, 3), dtype=float32, numpy=\n",
       "array([[1., 2., 3.],\n",
       "       [4., 5., 6.]], dtype=float32)>"
      ]
     },
     "execution_count": 12,
     "metadata": {},
     "output_type": "execute_result"
    }
   ],
   "source": [
    "tf.constant([1, 2, 3, 4, 5, 6], shape=(2,3), dtype=tf.float32)"
   ]
  },
  {
   "cell_type": "markdown",
   "metadata": {},
   "source": [
    "### Operações"
   ]
  },
  {
   "cell_type": "code",
   "execution_count": 13,
   "metadata": {},
   "outputs": [],
   "source": [
    "a = tf.cast(a, tf.float32)"
   ]
  },
  {
   "cell_type": "code",
   "execution_count": 14,
   "metadata": {},
   "outputs": [
    {
     "data": {
      "text/plain": [
       "<tf.Tensor: shape=(), dtype=float32, numpy=7.2>"
      ]
     },
     "execution_count": 14,
     "metadata": {},
     "output_type": "execute_result"
    }
   ],
   "source": [
    "a + b"
   ]
  },
  {
   "cell_type": "code",
   "execution_count": 15,
   "metadata": {},
   "outputs": [
    {
     "data": {
      "text/plain": [
       "<tf.Tensor: shape=(), dtype=float32, numpy=7.2>"
      ]
     },
     "execution_count": 15,
     "metadata": {},
     "output_type": "execute_result"
    }
   ],
   "source": [
    "tf.add(a, b)"
   ]
  },
  {
   "cell_type": "code",
   "execution_count": 16,
   "metadata": {},
   "outputs": [
    {
     "name": "stdout",
     "output_type": "stream",
     "text": [
      "tf.Tensor([4 3], shape=(2,), dtype=int32)\n",
      "(2,)\n",
      "<dtype: 'int32'>\n",
      "tf.Tensor([5 4], shape=(2,), dtype=int32)\n"
     ]
    }
   ],
   "source": [
    "print(list1)\n",
    "print(list1.shape)\n",
    "print(list1.dtype)\n",
    "print(list1 + tf.ones(list1.shape, dtype=list1.dtype))"
   ]
  },
  {
   "cell_type": "markdown",
   "metadata": {},
   "source": [
    "Multiplicação de matrizes"
   ]
  },
  {
   "cell_type": "code",
   "execution_count": 17,
   "metadata": {},
   "outputs": [],
   "source": [
    "mat1 = tf.constant([[1, 2, 3],\n",
    "                   [4, 5, 6]])\n",
    "\n",
    "mat2 = tf.constant([\n",
    "    [1, 2, 3, 4],\n",
    "    [1, 2, 3, 4],\n",
    "    [1, 2, 3, 4],\n",
    "])"
   ]
  },
  {
   "cell_type": "code",
   "execution_count": 18,
   "metadata": {},
   "outputs": [
    {
     "name": "stdout",
     "output_type": "stream",
     "text": [
      "(2, 3)\n",
      "(3, 4)\n"
     ]
    }
   ],
   "source": [
    "print(mat1.shape)\n",
    "print(mat2.shape)"
   ]
  },
  {
   "cell_type": "code",
   "execution_count": 19,
   "metadata": {},
   "outputs": [
    {
     "data": {
      "text/plain": [
       "<tf.Tensor: shape=(2, 4), dtype=int32, numpy=\n",
       "array([[ 6, 12, 18, 24],\n",
       "       [15, 30, 45, 60]], dtype=int32)>"
      ]
     },
     "execution_count": 19,
     "metadata": {},
     "output_type": "execute_result"
    }
   ],
   "source": [
    "tf.matmul(mat1, mat2)"
   ]
  },
  {
   "cell_type": "code",
   "execution_count": 20,
   "metadata": {},
   "outputs": [
    {
     "data": {
      "text/plain": [
       "<tf.Tensor: shape=(2, 3), dtype=int32, numpy=\n",
       "array([[ 1,  4,  9],\n",
       "       [16, 25, 36]], dtype=int32)>"
      ]
     },
     "execution_count": 20,
     "metadata": {},
     "output_type": "execute_result"
    }
   ],
   "source": [
    "mat1 * mat1"
   ]
  },
  {
   "cell_type": "markdown",
   "metadata": {},
   "source": [
    "#### Bônus: Números complexos"
   ]
  },
  {
   "cell_type": "code",
   "execution_count": 21,
   "metadata": {},
   "outputs": [
    {
     "data": {
      "text/plain": [
       "<tf.Tensor: shape=(), dtype=complex64, numpy=(4+3.2j)>"
      ]
     },
     "execution_count": 21,
     "metadata": {},
     "output_type": "execute_result"
    }
   ],
   "source": [
    "tf.complex(a, b)"
   ]
  },
  {
   "cell_type": "markdown",
   "metadata": {},
   "source": [
    "## Redes Neurais Artificiais\n",
    "\n",
    "Redes neurais artificiais são modelos computacionais inspirados na estrutura do sistema\n",
    "nervoso de animais que adquire conhecimento por meio da experiência.\n",
    "\n",
    "Um neurônio articial (do tipo Perceptron) é composto por pesos W que multiplicam a entrada X e uma função de ativação f para determinar a saída Y.\n",
    "\n",
    "<img src=\"./images/Perceptron-bias.png\" width=\"600\">\n",
    "<center>Figura 1: Esquema de um neurônio articial (Perceptron)</center>\n",
    "<center>Fonte: [1]</center>\n",
    "\n",
    "No exemplo da figura acima:\n",
    "\n",
    "y = f(x1\\*w1 + x2\\*w2)\n",
    "\n",
    "y2 = f(x1\\*w1 + x2\\*w2 + b)\n",
    "\n",
    "#### Rede neural completamente conectada\n",
    "\n",
    "Os neurônios podem ser dispostos em camadas e várias dessas camadas podem ser encadeadas até a saída da rede. Neurônios em uma camada completamente conectada tem conexões a todas as \"saídas\" da camada anterior. Matematicamente, os pesos da rede podem ser representados como matrizes.\n",
    "\n",
    "<img src=\"./images/MultiLayer_Neural_Network.png\" width=\"600\">\n",
    "<center>Figura 2: Esquema de uma rede completamente conectada</center>\n",
    "<center>Fonte: [2]</center>\n",
    "\n",
    "Durante o treinamento, os pesos de uma rede neural são otimizados de acordo com o erro que é retropropagado ao longo das camadas."
   ]
  },
  {
   "cell_type": "markdown",
   "metadata": {},
   "source": [
    "## Exemplo Prático: NN para o dataset Titanic\n",
    "\n",
    "1. Pré-processamento\n",
    "2. Construção do pipeline de dados\n",
    "3. Construção do modelo\n",
    "4. Treinamento\n",
    "5. Avaliação do modelo e visualização dos resultados\n",
    "\n",
    "#### Pré-processamento do dataset"
   ]
  },
  {
   "cell_type": "code",
   "execution_count": 22,
   "metadata": {},
   "outputs": [],
   "source": [
    "TITANIC_TRAIN_URL = \"https://storage.googleapis.com/tf-datasets/titanic/train.csv\"\n",
    "TITANIC_TEST_URL = \"https://storage.googleapis.com/tf-datasets/titanic/eval.csv\""
   ]
  },
  {
   "cell_type": "code",
   "execution_count": 23,
   "metadata": {},
   "outputs": [],
   "source": [
    "titanic_train_path = keras.utils.get_file('titanic_train.csv', TITANIC_TRAIN_URL)\n",
    "titanic_test_path = keras.utils.get_file('titanic_test.csv', TITANIC_TEST_URL)"
   ]
  },
  {
   "cell_type": "code",
   "execution_count": 24,
   "metadata": {},
   "outputs": [
    {
     "data": {
      "text/html": [
       "<div>\n",
       "<style scoped>\n",
       "    .dataframe tbody tr th:only-of-type {\n",
       "        vertical-align: middle;\n",
       "    }\n",
       "\n",
       "    .dataframe tbody tr th {\n",
       "        vertical-align: top;\n",
       "    }\n",
       "\n",
       "    .dataframe thead th {\n",
       "        text-align: right;\n",
       "    }\n",
       "</style>\n",
       "<table border=\"1\" class=\"dataframe\">\n",
       "  <thead>\n",
       "    <tr style=\"text-align: right;\">\n",
       "      <th></th>\n",
       "      <th>survived</th>\n",
       "      <th>sex</th>\n",
       "      <th>age</th>\n",
       "      <th>n_siblings_spouses</th>\n",
       "      <th>parch</th>\n",
       "      <th>fare</th>\n",
       "      <th>class</th>\n",
       "      <th>deck</th>\n",
       "      <th>embark_town</th>\n",
       "      <th>alone</th>\n",
       "    </tr>\n",
       "  </thead>\n",
       "  <tbody>\n",
       "    <tr>\n",
       "      <th>0</th>\n",
       "      <td>0</td>\n",
       "      <td>male</td>\n",
       "      <td>22.0</td>\n",
       "      <td>1</td>\n",
       "      <td>0</td>\n",
       "      <td>7.2500</td>\n",
       "      <td>Third</td>\n",
       "      <td>unknown</td>\n",
       "      <td>Southampton</td>\n",
       "      <td>n</td>\n",
       "    </tr>\n",
       "    <tr>\n",
       "      <th>1</th>\n",
       "      <td>1</td>\n",
       "      <td>female</td>\n",
       "      <td>38.0</td>\n",
       "      <td>1</td>\n",
       "      <td>0</td>\n",
       "      <td>71.2833</td>\n",
       "      <td>First</td>\n",
       "      <td>C</td>\n",
       "      <td>Cherbourg</td>\n",
       "      <td>n</td>\n",
       "    </tr>\n",
       "    <tr>\n",
       "      <th>2</th>\n",
       "      <td>1</td>\n",
       "      <td>female</td>\n",
       "      <td>26.0</td>\n",
       "      <td>0</td>\n",
       "      <td>0</td>\n",
       "      <td>7.9250</td>\n",
       "      <td>Third</td>\n",
       "      <td>unknown</td>\n",
       "      <td>Southampton</td>\n",
       "      <td>y</td>\n",
       "    </tr>\n",
       "    <tr>\n",
       "      <th>3</th>\n",
       "      <td>1</td>\n",
       "      <td>female</td>\n",
       "      <td>35.0</td>\n",
       "      <td>1</td>\n",
       "      <td>0</td>\n",
       "      <td>53.1000</td>\n",
       "      <td>First</td>\n",
       "      <td>C</td>\n",
       "      <td>Southampton</td>\n",
       "      <td>n</td>\n",
       "    </tr>\n",
       "    <tr>\n",
       "      <th>4</th>\n",
       "      <td>0</td>\n",
       "      <td>male</td>\n",
       "      <td>28.0</td>\n",
       "      <td>0</td>\n",
       "      <td>0</td>\n",
       "      <td>8.4583</td>\n",
       "      <td>Third</td>\n",
       "      <td>unknown</td>\n",
       "      <td>Queenstown</td>\n",
       "      <td>y</td>\n",
       "    </tr>\n",
       "  </tbody>\n",
       "</table>\n",
       "</div>"
      ],
      "text/plain": [
       "   survived     sex   age  n_siblings_spouses  parch     fare  class     deck  \\\n",
       "0         0    male  22.0                   1      0   7.2500  Third  unknown   \n",
       "1         1  female  38.0                   1      0  71.2833  First        C   \n",
       "2         1  female  26.0                   0      0   7.9250  Third  unknown   \n",
       "3         1  female  35.0                   1      0  53.1000  First        C   \n",
       "4         0    male  28.0                   0      0   8.4583  Third  unknown   \n",
       "\n",
       "   embark_town alone  \n",
       "0  Southampton     n  \n",
       "1    Cherbourg     n  \n",
       "2  Southampton     y  \n",
       "3  Southampton     n  \n",
       "4   Queenstown     y  "
      ]
     },
     "execution_count": 24,
     "metadata": {},
     "output_type": "execute_result"
    }
   ],
   "source": [
    "train_df = pd.read_csv(titanic_train_path)\n",
    "train_df.head()"
   ]
  },
  {
   "cell_type": "code",
   "execution_count": 25,
   "metadata": {},
   "outputs": [
    {
     "data": {
      "text/html": [
       "<div>\n",
       "<style scoped>\n",
       "    .dataframe tbody tr th:only-of-type {\n",
       "        vertical-align: middle;\n",
       "    }\n",
       "\n",
       "    .dataframe tbody tr th {\n",
       "        vertical-align: top;\n",
       "    }\n",
       "\n",
       "    .dataframe thead th {\n",
       "        text-align: right;\n",
       "    }\n",
       "</style>\n",
       "<table border=\"1\" class=\"dataframe\">\n",
       "  <thead>\n",
       "    <tr style=\"text-align: right;\">\n",
       "      <th></th>\n",
       "      <th>class</th>\n",
       "      <th>sex</th>\n",
       "      <th>age</th>\n",
       "      <th>n_siblings_spouses</th>\n",
       "      <th>fare</th>\n",
       "      <th>survived</th>\n",
       "    </tr>\n",
       "  </thead>\n",
       "  <tbody>\n",
       "    <tr>\n",
       "      <th>0</th>\n",
       "      <td>Third</td>\n",
       "      <td>male</td>\n",
       "      <td>22.0</td>\n",
       "      <td>1</td>\n",
       "      <td>7.2500</td>\n",
       "      <td>0</td>\n",
       "    </tr>\n",
       "    <tr>\n",
       "      <th>1</th>\n",
       "      <td>First</td>\n",
       "      <td>female</td>\n",
       "      <td>38.0</td>\n",
       "      <td>1</td>\n",
       "      <td>71.2833</td>\n",
       "      <td>1</td>\n",
       "    </tr>\n",
       "    <tr>\n",
       "      <th>2</th>\n",
       "      <td>Third</td>\n",
       "      <td>female</td>\n",
       "      <td>26.0</td>\n",
       "      <td>0</td>\n",
       "      <td>7.9250</td>\n",
       "      <td>1</td>\n",
       "    </tr>\n",
       "    <tr>\n",
       "      <th>3</th>\n",
       "      <td>First</td>\n",
       "      <td>female</td>\n",
       "      <td>35.0</td>\n",
       "      <td>1</td>\n",
       "      <td>53.1000</td>\n",
       "      <td>1</td>\n",
       "    </tr>\n",
       "    <tr>\n",
       "      <th>4</th>\n",
       "      <td>Third</td>\n",
       "      <td>male</td>\n",
       "      <td>28.0</td>\n",
       "      <td>0</td>\n",
       "      <td>8.4583</td>\n",
       "      <td>0</td>\n",
       "    </tr>\n",
       "  </tbody>\n",
       "</table>\n",
       "</div>"
      ],
      "text/plain": [
       "   class     sex   age  n_siblings_spouses     fare  survived\n",
       "0  Third    male  22.0                   1   7.2500         0\n",
       "1  First  female  38.0                   1  71.2833         1\n",
       "2  Third  female  26.0                   0   7.9250         1\n",
       "3  First  female  35.0                   1  53.1000         1\n",
       "4  Third    male  28.0                   0   8.4583         0"
      ]
     },
     "execution_count": 25,
     "metadata": {},
     "output_type": "execute_result"
    }
   ],
   "source": [
    "selected_columns = ['class', 'sex', 'age', 'n_siblings_spouses', 'fare', 'survived']\n",
    "train_df = train_df[selected_columns]\n",
    "train_df.head()"
   ]
  },
  {
   "cell_type": "code",
   "execution_count": 26,
   "metadata": {},
   "outputs": [
    {
     "name": "stdout",
     "output_type": "stream",
     "text": [
      "['Third' 'First' 'Second']\n",
      "['male' 'female']\n"
     ]
    }
   ],
   "source": [
    "print(train_df['class'].unique())\n",
    "print(train_df['sex'].unique())"
   ]
  },
  {
   "cell_type": "markdown",
   "metadata": {},
   "source": [
    "Feature enconde:"
   ]
  },
  {
   "cell_type": "code",
   "execution_count": 27,
   "metadata": {},
   "outputs": [
    {
     "data": {
      "text/html": [
       "<div>\n",
       "<style scoped>\n",
       "    .dataframe tbody tr th:only-of-type {\n",
       "        vertical-align: middle;\n",
       "    }\n",
       "\n",
       "    .dataframe tbody tr th {\n",
       "        vertical-align: top;\n",
       "    }\n",
       "\n",
       "    .dataframe thead th {\n",
       "        text-align: right;\n",
       "    }\n",
       "</style>\n",
       "<table border=\"1\" class=\"dataframe\">\n",
       "  <thead>\n",
       "    <tr style=\"text-align: right;\">\n",
       "      <th></th>\n",
       "      <th>First</th>\n",
       "      <th>Second</th>\n",
       "      <th>Third</th>\n",
       "    </tr>\n",
       "  </thead>\n",
       "  <tbody>\n",
       "    <tr>\n",
       "      <th>0</th>\n",
       "      <td>0</td>\n",
       "      <td>0</td>\n",
       "      <td>1</td>\n",
       "    </tr>\n",
       "    <tr>\n",
       "      <th>1</th>\n",
       "      <td>1</td>\n",
       "      <td>0</td>\n",
       "      <td>0</td>\n",
       "    </tr>\n",
       "    <tr>\n",
       "      <th>2</th>\n",
       "      <td>0</td>\n",
       "      <td>0</td>\n",
       "      <td>1</td>\n",
       "    </tr>\n",
       "    <tr>\n",
       "      <th>3</th>\n",
       "      <td>1</td>\n",
       "      <td>0</td>\n",
       "      <td>0</td>\n",
       "    </tr>\n",
       "    <tr>\n",
       "      <th>4</th>\n",
       "      <td>0</td>\n",
       "      <td>0</td>\n",
       "      <td>1</td>\n",
       "    </tr>\n",
       "  </tbody>\n",
       "</table>\n",
       "</div>"
      ],
      "text/plain": [
       "   First  Second  Third\n",
       "0      0       0      1\n",
       "1      1       0      0\n",
       "2      0       0      1\n",
       "3      1       0      0\n",
       "4      0       0      1"
      ]
     },
     "execution_count": 27,
     "metadata": {},
     "output_type": "execute_result"
    }
   ],
   "source": [
    "pd.get_dummies(train_df['class']).head()"
   ]
  },
  {
   "cell_type": "code",
   "execution_count": 28,
   "metadata": {},
   "outputs": [
    {
     "data": {
      "text/html": [
       "<div>\n",
       "<style scoped>\n",
       "    .dataframe tbody tr th:only-of-type {\n",
       "        vertical-align: middle;\n",
       "    }\n",
       "\n",
       "    .dataframe tbody tr th {\n",
       "        vertical-align: top;\n",
       "    }\n",
       "\n",
       "    .dataframe thead th {\n",
       "        text-align: right;\n",
       "    }\n",
       "</style>\n",
       "<table border=\"1\" class=\"dataframe\">\n",
       "  <thead>\n",
       "    <tr style=\"text-align: right;\">\n",
       "      <th></th>\n",
       "      <th>class</th>\n",
       "      <th>sex</th>\n",
       "      <th>age</th>\n",
       "      <th>n_siblings_spouses</th>\n",
       "      <th>fare</th>\n",
       "      <th>survived</th>\n",
       "      <th>First</th>\n",
       "      <th>Second</th>\n",
       "      <th>Third</th>\n",
       "      <th>female</th>\n",
       "      <th>male</th>\n",
       "    </tr>\n",
       "  </thead>\n",
       "  <tbody>\n",
       "    <tr>\n",
       "      <th>0</th>\n",
       "      <td>Third</td>\n",
       "      <td>male</td>\n",
       "      <td>22.0</td>\n",
       "      <td>1</td>\n",
       "      <td>7.2500</td>\n",
       "      <td>0</td>\n",
       "      <td>0</td>\n",
       "      <td>0</td>\n",
       "      <td>1</td>\n",
       "      <td>0</td>\n",
       "      <td>1</td>\n",
       "    </tr>\n",
       "    <tr>\n",
       "      <th>1</th>\n",
       "      <td>First</td>\n",
       "      <td>female</td>\n",
       "      <td>38.0</td>\n",
       "      <td>1</td>\n",
       "      <td>71.2833</td>\n",
       "      <td>1</td>\n",
       "      <td>1</td>\n",
       "      <td>0</td>\n",
       "      <td>0</td>\n",
       "      <td>1</td>\n",
       "      <td>0</td>\n",
       "    </tr>\n",
       "    <tr>\n",
       "      <th>2</th>\n",
       "      <td>Third</td>\n",
       "      <td>female</td>\n",
       "      <td>26.0</td>\n",
       "      <td>0</td>\n",
       "      <td>7.9250</td>\n",
       "      <td>1</td>\n",
       "      <td>0</td>\n",
       "      <td>0</td>\n",
       "      <td>1</td>\n",
       "      <td>1</td>\n",
       "      <td>0</td>\n",
       "    </tr>\n",
       "    <tr>\n",
       "      <th>3</th>\n",
       "      <td>First</td>\n",
       "      <td>female</td>\n",
       "      <td>35.0</td>\n",
       "      <td>1</td>\n",
       "      <td>53.1000</td>\n",
       "      <td>1</td>\n",
       "      <td>1</td>\n",
       "      <td>0</td>\n",
       "      <td>0</td>\n",
       "      <td>1</td>\n",
       "      <td>0</td>\n",
       "    </tr>\n",
       "    <tr>\n",
       "      <th>4</th>\n",
       "      <td>Third</td>\n",
       "      <td>male</td>\n",
       "      <td>28.0</td>\n",
       "      <td>0</td>\n",
       "      <td>8.4583</td>\n",
       "      <td>0</td>\n",
       "      <td>0</td>\n",
       "      <td>0</td>\n",
       "      <td>1</td>\n",
       "      <td>0</td>\n",
       "      <td>1</td>\n",
       "    </tr>\n",
       "  </tbody>\n",
       "</table>\n",
       "</div>"
      ],
      "text/plain": [
       "   class     sex   age  n_siblings_spouses     fare  survived  First  Second  \\\n",
       "0  Third    male  22.0                   1   7.2500         0      0       0   \n",
       "1  First  female  38.0                   1  71.2833         1      1       0   \n",
       "2  Third  female  26.0                   0   7.9250         1      0       0   \n",
       "3  First  female  35.0                   1  53.1000         1      1       0   \n",
       "4  Third    male  28.0                   0   8.4583         0      0       0   \n",
       "\n",
       "   Third  female  male  \n",
       "0      1       0     1  \n",
       "1      0       1     0  \n",
       "2      1       1     0  \n",
       "3      0       1     0  \n",
       "4      1       0     1  "
      ]
     },
     "execution_count": 28,
     "metadata": {},
     "output_type": "execute_result"
    }
   ],
   "source": [
    "train_df = pd.concat([train_df, pd.get_dummies(train_df['class']), pd.get_dummies(train_df['sex'])], axis=1)\n",
    "train_df.head()"
   ]
  },
  {
   "cell_type": "code",
   "execution_count": 29,
   "metadata": {},
   "outputs": [
    {
     "data": {
      "text/html": [
       "<div>\n",
       "<style scoped>\n",
       "    .dataframe tbody tr th:only-of-type {\n",
       "        vertical-align: middle;\n",
       "    }\n",
       "\n",
       "    .dataframe tbody tr th {\n",
       "        vertical-align: top;\n",
       "    }\n",
       "\n",
       "    .dataframe thead th {\n",
       "        text-align: right;\n",
       "    }\n",
       "</style>\n",
       "<table border=\"1\" class=\"dataframe\">\n",
       "  <thead>\n",
       "    <tr style=\"text-align: right;\">\n",
       "      <th></th>\n",
       "      <th>age</th>\n",
       "      <th>n_siblings_spouses</th>\n",
       "      <th>fare</th>\n",
       "      <th>survived</th>\n",
       "      <th>First</th>\n",
       "      <th>Second</th>\n",
       "      <th>Third</th>\n",
       "      <th>female</th>\n",
       "      <th>male</th>\n",
       "    </tr>\n",
       "  </thead>\n",
       "  <tbody>\n",
       "    <tr>\n",
       "      <th>0</th>\n",
       "      <td>22.0</td>\n",
       "      <td>1</td>\n",
       "      <td>7.2500</td>\n",
       "      <td>0</td>\n",
       "      <td>0</td>\n",
       "      <td>0</td>\n",
       "      <td>1</td>\n",
       "      <td>0</td>\n",
       "      <td>1</td>\n",
       "    </tr>\n",
       "    <tr>\n",
       "      <th>1</th>\n",
       "      <td>38.0</td>\n",
       "      <td>1</td>\n",
       "      <td>71.2833</td>\n",
       "      <td>1</td>\n",
       "      <td>1</td>\n",
       "      <td>0</td>\n",
       "      <td>0</td>\n",
       "      <td>1</td>\n",
       "      <td>0</td>\n",
       "    </tr>\n",
       "    <tr>\n",
       "      <th>2</th>\n",
       "      <td>26.0</td>\n",
       "      <td>0</td>\n",
       "      <td>7.9250</td>\n",
       "      <td>1</td>\n",
       "      <td>0</td>\n",
       "      <td>0</td>\n",
       "      <td>1</td>\n",
       "      <td>1</td>\n",
       "      <td>0</td>\n",
       "    </tr>\n",
       "    <tr>\n",
       "      <th>3</th>\n",
       "      <td>35.0</td>\n",
       "      <td>1</td>\n",
       "      <td>53.1000</td>\n",
       "      <td>1</td>\n",
       "      <td>1</td>\n",
       "      <td>0</td>\n",
       "      <td>0</td>\n",
       "      <td>1</td>\n",
       "      <td>0</td>\n",
       "    </tr>\n",
       "    <tr>\n",
       "      <th>4</th>\n",
       "      <td>28.0</td>\n",
       "      <td>0</td>\n",
       "      <td>8.4583</td>\n",
       "      <td>0</td>\n",
       "      <td>0</td>\n",
       "      <td>0</td>\n",
       "      <td>1</td>\n",
       "      <td>0</td>\n",
       "      <td>1</td>\n",
       "    </tr>\n",
       "  </tbody>\n",
       "</table>\n",
       "</div>"
      ],
      "text/plain": [
       "    age  n_siblings_spouses     fare  survived  First  Second  Third  female  \\\n",
       "0  22.0                   1   7.2500         0      0       0      1       0   \n",
       "1  38.0                   1  71.2833         1      1       0      0       1   \n",
       "2  26.0                   0   7.9250         1      0       0      1       1   \n",
       "3  35.0                   1  53.1000         1      1       0      0       1   \n",
       "4  28.0                   0   8.4583         0      0       0      1       0   \n",
       "\n",
       "   male  \n",
       "0     1  \n",
       "1     0  \n",
       "2     0  \n",
       "3     0  \n",
       "4     1  "
      ]
     },
     "execution_count": 29,
     "metadata": {},
     "output_type": "execute_result"
    }
   ],
   "source": [
    "train_df = train_df.drop(columns=['class', 'sex'])\n",
    "train_df.head()"
   ]
  },
  {
   "cell_type": "code",
   "execution_count": 30,
   "metadata": {},
   "outputs": [
    {
     "data": {
      "text/html": [
       "<div>\n",
       "<style scoped>\n",
       "    .dataframe tbody tr th:only-of-type {\n",
       "        vertical-align: middle;\n",
       "    }\n",
       "\n",
       "    .dataframe tbody tr th {\n",
       "        vertical-align: top;\n",
       "    }\n",
       "\n",
       "    .dataframe thead th {\n",
       "        text-align: right;\n",
       "    }\n",
       "</style>\n",
       "<table border=\"1\" class=\"dataframe\">\n",
       "  <thead>\n",
       "    <tr style=\"text-align: right;\">\n",
       "      <th></th>\n",
       "      <th>survived</th>\n",
       "    </tr>\n",
       "  </thead>\n",
       "  <tbody>\n",
       "    <tr>\n",
       "      <th>0</th>\n",
       "      <td>0</td>\n",
       "    </tr>\n",
       "    <tr>\n",
       "      <th>1</th>\n",
       "      <td>1</td>\n",
       "    </tr>\n",
       "    <tr>\n",
       "      <th>2</th>\n",
       "      <td>1</td>\n",
       "    </tr>\n",
       "    <tr>\n",
       "      <th>3</th>\n",
       "      <td>1</td>\n",
       "    </tr>\n",
       "    <tr>\n",
       "      <th>4</th>\n",
       "      <td>0</td>\n",
       "    </tr>\n",
       "  </tbody>\n",
       "</table>\n",
       "</div>"
      ],
      "text/plain": [
       "   survived\n",
       "0         0\n",
       "1         1\n",
       "2         1\n",
       "3         1\n",
       "4         0"
      ]
     },
     "execution_count": 30,
     "metadata": {},
     "output_type": "execute_result"
    }
   ],
   "source": [
    "train_df_labels = train_df[['survived']].copy()\n",
    "train_df_labels.head()"
   ]
  },
  {
   "cell_type": "code",
   "execution_count": 31,
   "metadata": {},
   "outputs": [
    {
     "data": {
      "text/html": [
       "<div>\n",
       "<style scoped>\n",
       "    .dataframe tbody tr th:only-of-type {\n",
       "        vertical-align: middle;\n",
       "    }\n",
       "\n",
       "    .dataframe tbody tr th {\n",
       "        vertical-align: top;\n",
       "    }\n",
       "\n",
       "    .dataframe thead th {\n",
       "        text-align: right;\n",
       "    }\n",
       "</style>\n",
       "<table border=\"1\" class=\"dataframe\">\n",
       "  <thead>\n",
       "    <tr style=\"text-align: right;\">\n",
       "      <th></th>\n",
       "      <th>age</th>\n",
       "      <th>n_siblings_spouses</th>\n",
       "      <th>fare</th>\n",
       "      <th>First</th>\n",
       "      <th>Second</th>\n",
       "      <th>Third</th>\n",
       "      <th>female</th>\n",
       "      <th>male</th>\n",
       "    </tr>\n",
       "  </thead>\n",
       "  <tbody>\n",
       "    <tr>\n",
       "      <th>0</th>\n",
       "      <td>22.0</td>\n",
       "      <td>1</td>\n",
       "      <td>7.2500</td>\n",
       "      <td>0</td>\n",
       "      <td>0</td>\n",
       "      <td>1</td>\n",
       "      <td>0</td>\n",
       "      <td>1</td>\n",
       "    </tr>\n",
       "    <tr>\n",
       "      <th>1</th>\n",
       "      <td>38.0</td>\n",
       "      <td>1</td>\n",
       "      <td>71.2833</td>\n",
       "      <td>1</td>\n",
       "      <td>0</td>\n",
       "      <td>0</td>\n",
       "      <td>1</td>\n",
       "      <td>0</td>\n",
       "    </tr>\n",
       "    <tr>\n",
       "      <th>2</th>\n",
       "      <td>26.0</td>\n",
       "      <td>0</td>\n",
       "      <td>7.9250</td>\n",
       "      <td>0</td>\n",
       "      <td>0</td>\n",
       "      <td>1</td>\n",
       "      <td>1</td>\n",
       "      <td>0</td>\n",
       "    </tr>\n",
       "    <tr>\n",
       "      <th>3</th>\n",
       "      <td>35.0</td>\n",
       "      <td>1</td>\n",
       "      <td>53.1000</td>\n",
       "      <td>1</td>\n",
       "      <td>0</td>\n",
       "      <td>0</td>\n",
       "      <td>1</td>\n",
       "      <td>0</td>\n",
       "    </tr>\n",
       "    <tr>\n",
       "      <th>4</th>\n",
       "      <td>28.0</td>\n",
       "      <td>0</td>\n",
       "      <td>8.4583</td>\n",
       "      <td>0</td>\n",
       "      <td>0</td>\n",
       "      <td>1</td>\n",
       "      <td>0</td>\n",
       "      <td>1</td>\n",
       "    </tr>\n",
       "  </tbody>\n",
       "</table>\n",
       "</div>"
      ],
      "text/plain": [
       "    age  n_siblings_spouses     fare  First  Second  Third  female  male\n",
       "0  22.0                   1   7.2500      0       0      1       0     1\n",
       "1  38.0                   1  71.2833      1       0      0       1     0\n",
       "2  26.0                   0   7.9250      0       0      1       1     0\n",
       "3  35.0                   1  53.1000      1       0      0       1     0\n",
       "4  28.0                   0   8.4583      0       0      1       0     1"
      ]
     },
     "execution_count": 31,
     "metadata": {},
     "output_type": "execute_result"
    }
   ],
   "source": [
    "train_df_features = train_df.drop(columns=['survived'])\n",
    "train_df_features.head()"
   ]
  },
  {
   "cell_type": "markdown",
   "metadata": {},
   "source": [
    "Replicando para o conjunto de teste:"
   ]
  },
  {
   "cell_type": "code",
   "execution_count": 32,
   "metadata": {},
   "outputs": [],
   "source": [
    "test_df = pd.read_csv(titanic_test_path)\n",
    "test_df = test_df[selected_columns]\n",
    "test_df = pd.concat([test_df, pd.get_dummies(test_df['class']), pd.get_dummies(test_df['sex'])], axis=1)\n",
    "test_df = test_df.drop(columns=['class', 'sex'])\n",
    "test_df_labels = test_df[['survived']].copy()\n",
    "test_df_features = test_df.drop(columns=['survived'])"
   ]
  },
  {
   "cell_type": "code",
   "execution_count": 33,
   "metadata": {},
   "outputs": [
    {
     "data": {
      "text/html": [
       "<div>\n",
       "<style scoped>\n",
       "    .dataframe tbody tr th:only-of-type {\n",
       "        vertical-align: middle;\n",
       "    }\n",
       "\n",
       "    .dataframe tbody tr th {\n",
       "        vertical-align: top;\n",
       "    }\n",
       "\n",
       "    .dataframe thead th {\n",
       "        text-align: right;\n",
       "    }\n",
       "</style>\n",
       "<table border=\"1\" class=\"dataframe\">\n",
       "  <thead>\n",
       "    <tr style=\"text-align: right;\">\n",
       "      <th></th>\n",
       "      <th>age</th>\n",
       "      <th>n_siblings_spouses</th>\n",
       "      <th>fare</th>\n",
       "      <th>First</th>\n",
       "      <th>Second</th>\n",
       "      <th>Third</th>\n",
       "      <th>female</th>\n",
       "      <th>male</th>\n",
       "    </tr>\n",
       "  </thead>\n",
       "  <tbody>\n",
       "    <tr>\n",
       "      <th>0</th>\n",
       "      <td>35.0</td>\n",
       "      <td>0</td>\n",
       "      <td>8.0500</td>\n",
       "      <td>0</td>\n",
       "      <td>0</td>\n",
       "      <td>1</td>\n",
       "      <td>0</td>\n",
       "      <td>1</td>\n",
       "    </tr>\n",
       "    <tr>\n",
       "      <th>1</th>\n",
       "      <td>54.0</td>\n",
       "      <td>0</td>\n",
       "      <td>51.8625</td>\n",
       "      <td>1</td>\n",
       "      <td>0</td>\n",
       "      <td>0</td>\n",
       "      <td>0</td>\n",
       "      <td>1</td>\n",
       "    </tr>\n",
       "    <tr>\n",
       "      <th>2</th>\n",
       "      <td>58.0</td>\n",
       "      <td>0</td>\n",
       "      <td>26.5500</td>\n",
       "      <td>1</td>\n",
       "      <td>0</td>\n",
       "      <td>0</td>\n",
       "      <td>1</td>\n",
       "      <td>0</td>\n",
       "    </tr>\n",
       "    <tr>\n",
       "      <th>3</th>\n",
       "      <td>55.0</td>\n",
       "      <td>0</td>\n",
       "      <td>16.0000</td>\n",
       "      <td>0</td>\n",
       "      <td>1</td>\n",
       "      <td>0</td>\n",
       "      <td>1</td>\n",
       "      <td>0</td>\n",
       "    </tr>\n",
       "    <tr>\n",
       "      <th>4</th>\n",
       "      <td>34.0</td>\n",
       "      <td>0</td>\n",
       "      <td>13.0000</td>\n",
       "      <td>0</td>\n",
       "      <td>1</td>\n",
       "      <td>0</td>\n",
       "      <td>0</td>\n",
       "      <td>1</td>\n",
       "    </tr>\n",
       "  </tbody>\n",
       "</table>\n",
       "</div>"
      ],
      "text/plain": [
       "    age  n_siblings_spouses     fare  First  Second  Third  female  male\n",
       "0  35.0                   0   8.0500      0       0      1       0     1\n",
       "1  54.0                   0  51.8625      1       0      0       0     1\n",
       "2  58.0                   0  26.5500      1       0      0       1     0\n",
       "3  55.0                   0  16.0000      0       1      0       1     0\n",
       "4  34.0                   0  13.0000      0       1      0       0     1"
      ]
     },
     "execution_count": 33,
     "metadata": {},
     "output_type": "execute_result"
    }
   ],
   "source": [
    "test_df_features.head()"
   ]
  },
  {
   "cell_type": "code",
   "execution_count": 34,
   "metadata": {},
   "outputs": [
    {
     "data": {
      "text/html": [
       "<div>\n",
       "<style scoped>\n",
       "    .dataframe tbody tr th:only-of-type {\n",
       "        vertical-align: middle;\n",
       "    }\n",
       "\n",
       "    .dataframe tbody tr th {\n",
       "        vertical-align: top;\n",
       "    }\n",
       "\n",
       "    .dataframe thead th {\n",
       "        text-align: right;\n",
       "    }\n",
       "</style>\n",
       "<table border=\"1\" class=\"dataframe\">\n",
       "  <thead>\n",
       "    <tr style=\"text-align: right;\">\n",
       "      <th></th>\n",
       "      <th>survived</th>\n",
       "    </tr>\n",
       "  </thead>\n",
       "  <tbody>\n",
       "    <tr>\n",
       "      <th>0</th>\n",
       "      <td>0</td>\n",
       "    </tr>\n",
       "    <tr>\n",
       "      <th>1</th>\n",
       "      <td>0</td>\n",
       "    </tr>\n",
       "    <tr>\n",
       "      <th>2</th>\n",
       "      <td>1</td>\n",
       "    </tr>\n",
       "    <tr>\n",
       "      <th>3</th>\n",
       "      <td>1</td>\n",
       "    </tr>\n",
       "    <tr>\n",
       "      <th>4</th>\n",
       "      <td>1</td>\n",
       "    </tr>\n",
       "  </tbody>\n",
       "</table>\n",
       "</div>"
      ],
      "text/plain": [
       "   survived\n",
       "0         0\n",
       "1         0\n",
       "2         1\n",
       "3         1\n",
       "4         1"
      ]
     },
     "execution_count": 34,
     "metadata": {},
     "output_type": "execute_result"
    }
   ],
   "source": [
    "test_df_labels.head()"
   ]
  },
  {
   "cell_type": "markdown",
   "metadata": {},
   "source": [
    "#### Construindo o pipeline de dados (tf.data.Dataset)\n",
    "\n",
    "O `tf.data` é uma API do TensorFlow que permite construir pipelines de dados. Essa API é altamente flexível, permitindo a construção de pipelines complexos a partir de operações simples."
   ]
  },
  {
   "cell_type": "code",
   "execution_count": 35,
   "metadata": {},
   "outputs": [],
   "source": [
    "train_dataset = tf.data.Dataset.from_tensor_slices((train_df_features.values, train_df_labels.values))\n",
    "test_dataset = tf.data.Dataset.from_tensor_slices((test_df_features.values, test_df_labels.values))"
   ]
  },
  {
   "cell_type": "code",
   "execution_count": 36,
   "metadata": {},
   "outputs": [
    {
     "name": "stdout",
     "output_type": "stream",
     "text": [
      "tf.Tensor([22.    1.    7.25  0.    0.    1.    0.    1.  ], shape=(8,), dtype=float64)\n",
      "tf.Tensor([0], shape=(1,), dtype=int64)\n",
      "tf.Tensor([38.      1.     71.2833  1.      0.      0.      1.      0.    ], shape=(8,), dtype=float64)\n",
      "tf.Tensor([1], shape=(1,), dtype=int64)\n"
     ]
    }
   ],
   "source": [
    "for features, label in train_dataset.take(2):\n",
    "    print(features)\n",
    "    print(label)"
   ]
  },
  {
   "cell_type": "code",
   "execution_count": 37,
   "metadata": {},
   "outputs": [],
   "source": [
    "SHUFFLE_BUFFER_SIZE = len(train_df_labels)\n",
    "TEST_LENGHT = len(test_df_labels)\n",
    "BATCH_SIZE = 16\n",
    "EPOCHS = 300"
   ]
  },
  {
   "cell_type": "code",
   "execution_count": 38,
   "metadata": {},
   "outputs": [],
   "source": [
    "train_dataset = train_dataset.shuffle(SHUFFLE_BUFFER_SIZE)\n",
    "train_dataset = train_dataset.batch(BATCH_SIZE, drop_remainder=True)\n",
    "\n",
    "## Se usar a opção epochs para a quantidade de épocas da função fit do modelo, não se deve aplicar o repeat\n",
    "#train_dataset = train_dataset.repeat(EPOCHS)"
   ]
  },
  {
   "cell_type": "code",
   "execution_count": 39,
   "metadata": {},
   "outputs": [
    {
     "name": "stdout",
     "output_type": "stream",
     "text": [
      "tf.Tensor(\n",
      "[[ 28.       0.      33.       0.       1.       0.       1.       0.    ]\n",
      " [ 33.       0.       9.5      0.       0.       1.       0.       1.    ]\n",
      " [ 28.       0.       8.1125   0.       0.       1.       0.       1.    ]\n",
      " [ 19.       0.       7.8958   0.       0.       1.       0.       1.    ]\n",
      " [ 36.       0.      13.       0.       1.       0.       0.       1.    ]\n",
      " [ 24.       2.      18.75     0.       1.       0.       1.       0.    ]\n",
      " [ 28.       8.      69.55     0.       0.       1.       0.       1.    ]\n",
      " [  7.       4.      39.6875   0.       0.       1.       0.       1.    ]\n",
      " [ 28.       3.      25.4667   0.       0.       1.       1.       0.    ]\n",
      " [ 14.5      1.      14.4542   0.       0.       1.       1.       0.    ]\n",
      " [ 17.       1.     108.9      1.       0.       0.       1.       0.    ]\n",
      " [ 28.       0.      13.       0.       1.       0.       1.       0.    ]\n",
      " [ 30.       0.      13.       0.       1.       0.       0.       1.    ]\n",
      " [ 29.       1.      26.       0.       1.       0.       1.       0.    ]\n",
      " [ 16.       0.      39.4      1.       0.       0.       1.       0.    ]\n",
      " [ 16.       0.      10.5      0.       1.       0.       0.       1.    ]], shape=(16, 8), dtype=float64)\n",
      "tf.Tensor(\n",
      "[[1]\n",
      " [0]\n",
      " [1]\n",
      " [0]\n",
      " [0]\n",
      " [1]\n",
      " [0]\n",
      " [0]\n",
      " [0]\n",
      " [0]\n",
      " [1]\n",
      " [1]\n",
      " [0]\n",
      " [1]\n",
      " [1]\n",
      " [0]], shape=(16, 1), dtype=int64)\n"
     ]
    }
   ],
   "source": [
    "for features, label in train_dataset.take(1):\n",
    "    print(features)\n",
    "    print(label)"
   ]
  },
  {
   "cell_type": "markdown",
   "metadata": {},
   "source": [
    "No teste não precisamos aleatorizar as instâncias:"
   ]
  },
  {
   "cell_type": "code",
   "execution_count": 40,
   "metadata": {},
   "outputs": [],
   "source": [
    "#test_dataset = test_dataset.batch(BATCH_SIZE, drop_remainder=True).repeat(EPOCHS)\n",
    "test_dataset = test_dataset.batch(BATCH_SIZE, drop_remainder=True)"
   ]
  },
  {
   "cell_type": "markdown",
   "metadata": {},
   "source": [
    "Pergunta: Por que não deveríamos utilizar `rop_remainder` na avaliação de um experimento real?"
   ]
  },
  {
   "cell_type": "markdown",
   "metadata": {},
   "source": [
    "### Construindo o modelo"
   ]
  },
  {
   "cell_type": "code",
   "execution_count": 41,
   "metadata": {},
   "outputs": [],
   "source": [
    "model = keras.Sequential([\n",
    "    keras.Input(shape=(8,)),\n",
    "    keras.layers.Dense(32, activation='relu'),\n",
    "    keras.layers.Dense(32),\n",
    "    keras.layers.Activation('relu'),\n",
    "    keras.layers.Dense(1)\n",
    "])"
   ]
  },
  {
   "cell_type": "code",
   "execution_count": 42,
   "metadata": {},
   "outputs": [
    {
     "name": "stdout",
     "output_type": "stream",
     "text": [
      "Model: \"sequential\"\n",
      "_________________________________________________________________\n",
      "Layer (type)                 Output Shape              Param #   \n",
      "=================================================================\n",
      "dense (Dense)                (None, 32)                288       \n",
      "_________________________________________________________________\n",
      "dense_1 (Dense)              (None, 32)                1056      \n",
      "_________________________________________________________________\n",
      "activation (Activation)      (None, 32)                0         \n",
      "_________________________________________________________________\n",
      "dense_2 (Dense)              (None, 1)                 33        \n",
      "=================================================================\n",
      "Total params: 1,377\n",
      "Trainable params: 1,377\n",
      "Non-trainable params: 0\n",
      "_________________________________________________________________\n"
     ]
    }
   ],
   "source": [
    "model.summary()"
   ]
  },
  {
   "cell_type": "code",
   "execution_count": 43,
   "metadata": {},
   "outputs": [],
   "source": [
    "model.compile(\n",
    "    loss=tf.keras.losses.BinaryCrossentropy(from_logits=True),\n",
    "    optimizer='adam',\n",
    "    metrics=['accuracy'])"
   ]
  },
  {
   "cell_type": "markdown",
   "metadata": {},
   "source": [
    "### Treinamento"
   ]
  },
  {
   "cell_type": "code",
   "execution_count": 44,
   "metadata": {},
   "outputs": [
    {
     "name": "stdout",
     "output_type": "stream",
     "text": [
      "Epoch 1/300\n",
      "39/39 [==============================] - 0s 6ms/step - loss: 0.8023 - accuracy: 0.5689 - val_loss: 0.6064 - val_accuracy: 0.6836\n",
      "Epoch 2/300\n",
      "39/39 [==============================] - 0s 3ms/step - loss: 0.6308 - accuracy: 0.6715 - val_loss: 0.6876 - val_accuracy: 0.6250\n",
      "Epoch 3/300\n",
      "39/39 [==============================] - 0s 3ms/step - loss: 0.6251 - accuracy: 0.6747 - val_loss: 0.6094 - val_accuracy: 0.6523\n",
      "Epoch 4/300\n",
      "39/39 [==============================] - 0s 3ms/step - loss: 0.6001 - accuracy: 0.6715 - val_loss: 0.5851 - val_accuracy: 0.6797\n",
      "Epoch 5/300\n",
      "39/39 [==============================] - 0s 3ms/step - loss: 0.5860 - accuracy: 0.6651 - val_loss: 0.5825 - val_accuracy: 0.6641\n",
      "Epoch 6/300\n",
      "39/39 [==============================] - 0s 3ms/step - loss: 0.5842 - accuracy: 0.6747 - val_loss: 0.5956 - val_accuracy: 0.6250\n",
      "Epoch 7/300\n",
      "39/39 [==============================] - 0s 3ms/step - loss: 0.5628 - accuracy: 0.6667 - val_loss: 0.5653 - val_accuracy: 0.6992\n",
      "Epoch 8/300\n",
      "39/39 [==============================] - 0s 3ms/step - loss: 0.5630 - accuracy: 0.6843 - val_loss: 0.5508 - val_accuracy: 0.7109\n",
      "Epoch 9/300\n",
      "39/39 [==============================] - 0s 3ms/step - loss: 0.5425 - accuracy: 0.7083 - val_loss: 0.5579 - val_accuracy: 0.6875\n",
      "Epoch 10/300\n",
      "39/39 [==============================] - 0s 3ms/step - loss: 0.5383 - accuracy: 0.7067 - val_loss: 0.5434 - val_accuracy: 0.7031\n",
      "Epoch 11/300\n",
      "39/39 [==============================] - 0s 3ms/step - loss: 0.5225 - accuracy: 0.7083 - val_loss: 0.5285 - val_accuracy: 0.7070\n",
      "Epoch 12/300\n",
      "39/39 [==============================] - 0s 3ms/step - loss: 0.4961 - accuracy: 0.7516 - val_loss: 0.5373 - val_accuracy: 0.6602\n",
      "Epoch 13/300\n",
      "39/39 [==============================] - 0s 3ms/step - loss: 0.5043 - accuracy: 0.7404 - val_loss: 0.5536 - val_accuracy: 0.7266\n",
      "Epoch 14/300\n",
      "39/39 [==============================] - 0s 3ms/step - loss: 0.4844 - accuracy: 0.7436 - val_loss: 0.4983 - val_accuracy: 0.7344\n",
      "Epoch 15/300\n",
      "39/39 [==============================] - 0s 3ms/step - loss: 0.4628 - accuracy: 0.7612 - val_loss: 0.4851 - val_accuracy: 0.7344\n",
      "Epoch 16/300\n",
      "39/39 [==============================] - 0s 3ms/step - loss: 0.4604 - accuracy: 0.7708 - val_loss: 0.5041 - val_accuracy: 0.7578\n",
      "Epoch 17/300\n",
      "39/39 [==============================] - 0s 3ms/step - loss: 0.4589 - accuracy: 0.7917 - val_loss: 0.5364 - val_accuracy: 0.7539\n",
      "Epoch 18/300\n",
      "39/39 [==============================] - 0s 3ms/step - loss: 0.4627 - accuracy: 0.7917 - val_loss: 0.4715 - val_accuracy: 0.7773\n",
      "Epoch 19/300\n",
      "39/39 [==============================] - 0s 3ms/step - loss: 0.4327 - accuracy: 0.7981 - val_loss: 0.4750 - val_accuracy: 0.7539\n",
      "Epoch 20/300\n",
      "39/39 [==============================] - 0s 3ms/step - loss: 0.4364 - accuracy: 0.7933 - val_loss: 0.4747 - val_accuracy: 0.7656\n",
      "Epoch 21/300\n",
      "39/39 [==============================] - 0s 3ms/step - loss: 0.4457 - accuracy: 0.7885 - val_loss: 0.4784 - val_accuracy: 0.7656\n",
      "Epoch 22/300\n",
      "39/39 [==============================] - 0s 3ms/step - loss: 0.4534 - accuracy: 0.7933 - val_loss: 0.4732 - val_accuracy: 0.7656\n",
      "Epoch 23/300\n",
      "39/39 [==============================] - 0s 3ms/step - loss: 0.4322 - accuracy: 0.7917 - val_loss: 0.5073 - val_accuracy: 0.7305\n",
      "Epoch 24/300\n",
      "39/39 [==============================] - 0s 3ms/step - loss: 0.4330 - accuracy: 0.8029 - val_loss: 0.4978 - val_accuracy: 0.7344\n",
      "Epoch 25/300\n",
      "39/39 [==============================] - 0s 3ms/step - loss: 0.4358 - accuracy: 0.8029 - val_loss: 0.4860 - val_accuracy: 0.7578\n",
      "Epoch 26/300\n",
      "39/39 [==============================] - 0s 3ms/step - loss: 0.4258 - accuracy: 0.8205 - val_loss: 0.4776 - val_accuracy: 0.7539\n",
      "Epoch 27/300\n",
      "39/39 [==============================] - 0s 3ms/step - loss: 0.4255 - accuracy: 0.7997 - val_loss: 0.4966 - val_accuracy: 0.7617\n",
      "Epoch 28/300\n",
      "39/39 [==============================] - 0s 3ms/step - loss: 0.4214 - accuracy: 0.8061 - val_loss: 0.4899 - val_accuracy: 0.7617\n",
      "Epoch 29/300\n",
      "39/39 [==============================] - 0s 3ms/step - loss: 0.4363 - accuracy: 0.8045 - val_loss: 0.4648 - val_accuracy: 0.7734\n",
      "Epoch 30/300\n",
      "39/39 [==============================] - 0s 3ms/step - loss: 0.4238 - accuracy: 0.8157 - val_loss: 0.4678 - val_accuracy: 0.7656\n",
      "Epoch 31/300\n",
      "39/39 [==============================] - 0s 3ms/step - loss: 0.4176 - accuracy: 0.8173 - val_loss: 0.4728 - val_accuracy: 0.7578\n",
      "Epoch 32/300\n",
      "39/39 [==============================] - 0s 3ms/step - loss: 0.4304 - accuracy: 0.8221 - val_loss: 0.4680 - val_accuracy: 0.7695\n",
      "Epoch 33/300\n",
      "39/39 [==============================] - 0s 3ms/step - loss: 0.4695 - accuracy: 0.7821 - val_loss: 0.4689 - val_accuracy: 0.7773\n",
      "Epoch 34/300\n",
      "39/39 [==============================] - 0s 3ms/step - loss: 0.4240 - accuracy: 0.8077 - val_loss: 0.5107 - val_accuracy: 0.7656\n",
      "Epoch 35/300\n",
      "39/39 [==============================] - 0s 3ms/step - loss: 0.4211 - accuracy: 0.8253 - val_loss: 0.4778 - val_accuracy: 0.7617\n",
      "Epoch 36/300\n",
      "39/39 [==============================] - 0s 3ms/step - loss: 0.4173 - accuracy: 0.8109 - val_loss: 0.5051 - val_accuracy: 0.7656\n",
      "Epoch 37/300\n",
      "39/39 [==============================] - 0s 3ms/step - loss: 0.4329 - accuracy: 0.8205 - val_loss: 0.4687 - val_accuracy: 0.7734\n",
      "Epoch 38/300\n",
      "39/39 [==============================] - 0s 3ms/step - loss: 0.4170 - accuracy: 0.8157 - val_loss: 0.4717 - val_accuracy: 0.7578\n",
      "Epoch 39/300\n",
      "39/39 [==============================] - 0s 3ms/step - loss: 0.4121 - accuracy: 0.8061 - val_loss: 0.4694 - val_accuracy: 0.7695\n",
      "Epoch 40/300\n",
      "39/39 [==============================] - 0s 3ms/step - loss: 0.4126 - accuracy: 0.8221 - val_loss: 0.4834 - val_accuracy: 0.7617\n",
      "Epoch 41/300\n",
      "39/39 [==============================] - 0s 3ms/step - loss: 0.4221 - accuracy: 0.8125 - val_loss: 0.4635 - val_accuracy: 0.7734\n",
      "Epoch 42/300\n",
      "39/39 [==============================] - 0s 3ms/step - loss: 0.4087 - accuracy: 0.8221 - val_loss: 0.4646 - val_accuracy: 0.7734\n",
      "Epoch 43/300\n",
      "39/39 [==============================] - 0s 3ms/step - loss: 0.4113 - accuracy: 0.8205 - val_loss: 0.4757 - val_accuracy: 0.7695\n",
      "Epoch 44/300\n",
      "39/39 [==============================] - 0s 3ms/step - loss: 0.4167 - accuracy: 0.8205 - val_loss: 0.4662 - val_accuracy: 0.7656\n",
      "Epoch 45/300\n",
      "39/39 [==============================] - 0s 3ms/step - loss: 0.4032 - accuracy: 0.8237 - val_loss: 0.4835 - val_accuracy: 0.7656\n",
      "Epoch 46/300\n",
      "39/39 [==============================] - 0s 3ms/step - loss: 0.4102 - accuracy: 0.8141 - val_loss: 0.4643 - val_accuracy: 0.7812\n",
      "Epoch 47/300\n",
      "39/39 [==============================] - 0s 3ms/step - loss: 0.4153 - accuracy: 0.8157 - val_loss: 0.4679 - val_accuracy: 0.7773\n",
      "Epoch 48/300\n",
      "39/39 [==============================] - 0s 3ms/step - loss: 0.4078 - accuracy: 0.8157 - val_loss: 0.4789 - val_accuracy: 0.7695\n",
      "Epoch 49/300\n",
      "39/39 [==============================] - 0s 3ms/step - loss: 0.4085 - accuracy: 0.8013 - val_loss: 0.4916 - val_accuracy: 0.7773\n",
      "Epoch 50/300\n",
      "39/39 [==============================] - 0s 3ms/step - loss: 0.4132 - accuracy: 0.8237 - val_loss: 0.4654 - val_accuracy: 0.7812\n",
      "Epoch 51/300\n",
      "39/39 [==============================] - 0s 3ms/step - loss: 0.4136 - accuracy: 0.8109 - val_loss: 0.4600 - val_accuracy: 0.7773\n",
      "Epoch 52/300\n",
      "39/39 [==============================] - 0s 3ms/step - loss: 0.4192 - accuracy: 0.8045 - val_loss: 0.4843 - val_accuracy: 0.7695\n",
      "Epoch 53/300\n",
      "39/39 [==============================] - 0s 3ms/step - loss: 0.4125 - accuracy: 0.8141 - val_loss: 0.4616 - val_accuracy: 0.7734\n",
      "Epoch 54/300\n",
      "39/39 [==============================] - 0s 3ms/step - loss: 0.4147 - accuracy: 0.8189 - val_loss: 0.4679 - val_accuracy: 0.7773\n",
      "Epoch 55/300\n",
      "39/39 [==============================] - 0s 3ms/step - loss: 0.4339 - accuracy: 0.7981 - val_loss: 0.4627 - val_accuracy: 0.7930\n",
      "Epoch 56/300\n",
      "39/39 [==============================] - 0s 3ms/step - loss: 0.4130 - accuracy: 0.8173 - val_loss: 0.4595 - val_accuracy: 0.7812\n",
      "Epoch 57/300\n",
      "39/39 [==============================] - 0s 3ms/step - loss: 0.4137 - accuracy: 0.8109 - val_loss: 0.4614 - val_accuracy: 0.7891\n",
      "Epoch 58/300\n",
      "39/39 [==============================] - 0s 3ms/step - loss: 0.3951 - accuracy: 0.8237 - val_loss: 0.5115 - val_accuracy: 0.7734\n"
     ]
    },
    {
     "name": "stdout",
     "output_type": "stream",
     "text": [
      "Epoch 59/300\n",
      "39/39 [==============================] - 0s 3ms/step - loss: 0.4113 - accuracy: 0.8173 - val_loss: 0.4658 - val_accuracy: 0.7852\n",
      "Epoch 60/300\n",
      "39/39 [==============================] - 0s 3ms/step - loss: 0.4060 - accuracy: 0.8173 - val_loss: 0.4590 - val_accuracy: 0.7852\n",
      "Epoch 61/300\n",
      "39/39 [==============================] - 0s 3ms/step - loss: 0.3992 - accuracy: 0.8301 - val_loss: 0.4678 - val_accuracy: 0.7773\n",
      "Epoch 62/300\n",
      "39/39 [==============================] - 0s 3ms/step - loss: 0.4156 - accuracy: 0.8157 - val_loss: 0.4556 - val_accuracy: 0.7812\n",
      "Epoch 63/300\n",
      "39/39 [==============================] - 0s 3ms/step - loss: 0.4121 - accuracy: 0.8093 - val_loss: 0.4673 - val_accuracy: 0.7891\n",
      "Epoch 64/300\n",
      "39/39 [==============================] - 0s 3ms/step - loss: 0.4032 - accuracy: 0.8317 - val_loss: 0.4581 - val_accuracy: 0.7812\n",
      "Epoch 65/300\n",
      "39/39 [==============================] - 0s 3ms/step - loss: 0.4071 - accuracy: 0.8189 - val_loss: 0.4706 - val_accuracy: 0.7812\n",
      "Epoch 66/300\n",
      "39/39 [==============================] - 0s 3ms/step - loss: 0.4166 - accuracy: 0.8013 - val_loss: 0.4613 - val_accuracy: 0.7969\n",
      "Epoch 67/300\n",
      "39/39 [==============================] - 0s 3ms/step - loss: 0.3916 - accuracy: 0.8253 - val_loss: 0.4567 - val_accuracy: 0.7930\n",
      "Epoch 68/300\n",
      "39/39 [==============================] - 0s 3ms/step - loss: 0.3974 - accuracy: 0.8141 - val_loss: 0.4578 - val_accuracy: 0.8086\n",
      "Epoch 69/300\n",
      "39/39 [==============================] - 0s 3ms/step - loss: 0.3981 - accuracy: 0.8173 - val_loss: 0.4624 - val_accuracy: 0.7969\n",
      "Epoch 70/300\n",
      "39/39 [==============================] - 0s 3ms/step - loss: 0.4030 - accuracy: 0.8269 - val_loss: 0.4851 - val_accuracy: 0.7812\n",
      "Epoch 71/300\n",
      "39/39 [==============================] - 0s 3ms/step - loss: 0.4112 - accuracy: 0.8109 - val_loss: 0.4554 - val_accuracy: 0.8047\n",
      "Epoch 72/300\n",
      "39/39 [==============================] - 0s 3ms/step - loss: 0.3986 - accuracy: 0.8093 - val_loss: 0.4803 - val_accuracy: 0.7773\n",
      "Epoch 73/300\n",
      "39/39 [==============================] - 0s 3ms/step - loss: 0.4032 - accuracy: 0.8173 - val_loss: 0.4589 - val_accuracy: 0.7969\n",
      "Epoch 74/300\n",
      "39/39 [==============================] - 0s 3ms/step - loss: 0.3959 - accuracy: 0.8205 - val_loss: 0.4704 - val_accuracy: 0.7930\n",
      "Epoch 75/300\n",
      "39/39 [==============================] - 0s 3ms/step - loss: 0.3937 - accuracy: 0.8269 - val_loss: 0.4565 - val_accuracy: 0.7891\n",
      "Epoch 76/300\n",
      "39/39 [==============================] - 0s 3ms/step - loss: 0.4075 - accuracy: 0.8093 - val_loss: 0.4606 - val_accuracy: 0.7852\n",
      "Epoch 77/300\n",
      "39/39 [==============================] - 0s 3ms/step - loss: 0.4022 - accuracy: 0.8077 - val_loss: 0.4568 - val_accuracy: 0.7969\n",
      "Epoch 78/300\n",
      "39/39 [==============================] - 0s 3ms/step - loss: 0.3962 - accuracy: 0.8317 - val_loss: 0.4656 - val_accuracy: 0.8008\n",
      "Epoch 79/300\n",
      "39/39 [==============================] - 0s 3ms/step - loss: 0.3913 - accuracy: 0.8125 - val_loss: 0.4994 - val_accuracy: 0.7812\n",
      "Epoch 80/300\n",
      "39/39 [==============================] - 0s 3ms/step - loss: 0.3995 - accuracy: 0.8253 - val_loss: 0.4524 - val_accuracy: 0.8125\n",
      "Epoch 81/300\n",
      "39/39 [==============================] - 0s 3ms/step - loss: 0.4032 - accuracy: 0.8173 - val_loss: 0.4539 - val_accuracy: 0.7930\n",
      "Epoch 82/300\n",
      "39/39 [==============================] - 0s 3ms/step - loss: 0.4078 - accuracy: 0.8205 - val_loss: 0.4478 - val_accuracy: 0.8047\n",
      "Epoch 83/300\n",
      "39/39 [==============================] - 0s 3ms/step - loss: 0.4067 - accuracy: 0.8141 - val_loss: 0.4525 - val_accuracy: 0.8008\n",
      "Epoch 84/300\n",
      "39/39 [==============================] - 0s 3ms/step - loss: 0.4027 - accuracy: 0.8285 - val_loss: 0.4509 - val_accuracy: 0.8008\n",
      "Epoch 85/300\n",
      "39/39 [==============================] - 0s 3ms/step - loss: 0.3940 - accuracy: 0.8285 - val_loss: 0.4521 - val_accuracy: 0.8047\n",
      "Epoch 86/300\n",
      "39/39 [==============================] - 0s 3ms/step - loss: 0.3970 - accuracy: 0.8221 - val_loss: 0.4642 - val_accuracy: 0.7969\n",
      "Epoch 87/300\n",
      "39/39 [==============================] - 0s 3ms/step - loss: 0.3932 - accuracy: 0.8205 - val_loss: 0.4487 - val_accuracy: 0.8047\n",
      "Epoch 88/300\n",
      "39/39 [==============================] - 0s 3ms/step - loss: 0.3961 - accuracy: 0.8221 - val_loss: 0.4574 - val_accuracy: 0.8008\n",
      "Epoch 89/300\n",
      "39/39 [==============================] - 0s 3ms/step - loss: 0.3906 - accuracy: 0.8253 - val_loss: 0.4558 - val_accuracy: 0.7969\n",
      "Epoch 90/300\n",
      "39/39 [==============================] - 0s 3ms/step - loss: 0.4180 - accuracy: 0.8125 - val_loss: 0.5054 - val_accuracy: 0.7734\n",
      "Epoch 91/300\n",
      "39/39 [==============================] - 0s 3ms/step - loss: 0.4043 - accuracy: 0.8205 - val_loss: 0.4468 - val_accuracy: 0.7969\n",
      "Epoch 92/300\n",
      "39/39 [==============================] - 0s 3ms/step - loss: 0.3918 - accuracy: 0.8333 - val_loss: 0.4683 - val_accuracy: 0.7930\n",
      "Epoch 93/300\n",
      "39/39 [==============================] - 0s 3ms/step - loss: 0.3831 - accuracy: 0.8365 - val_loss: 0.4520 - val_accuracy: 0.7930\n",
      "Epoch 94/300\n",
      "39/39 [==============================] - 0s 3ms/step - loss: 0.4003 - accuracy: 0.8077 - val_loss: 0.5040 - val_accuracy: 0.7773\n",
      "Epoch 95/300\n",
      "39/39 [==============================] - 0s 3ms/step - loss: 0.3973 - accuracy: 0.8253 - val_loss: 0.4716 - val_accuracy: 0.7930\n",
      "Epoch 96/300\n",
      "39/39 [==============================] - 0s 3ms/step - loss: 0.3857 - accuracy: 0.8269 - val_loss: 0.4826 - val_accuracy: 0.7812\n",
      "Epoch 97/300\n",
      "39/39 [==============================] - 0s 3ms/step - loss: 0.4244 - accuracy: 0.8013 - val_loss: 0.4832 - val_accuracy: 0.7852\n",
      "Epoch 98/300\n",
      "39/39 [==============================] - 0s 3ms/step - loss: 0.4053 - accuracy: 0.8125 - val_loss: 0.4456 - val_accuracy: 0.8125\n",
      "Epoch 99/300\n",
      "39/39 [==============================] - 0s 3ms/step - loss: 0.3909 - accuracy: 0.8221 - val_loss: 0.4674 - val_accuracy: 0.7930\n",
      "Epoch 100/300\n",
      "39/39 [==============================] - 0s 3ms/step - loss: 0.3948 - accuracy: 0.8253 - val_loss: 0.4596 - val_accuracy: 0.7969\n",
      "Epoch 101/300\n",
      "39/39 [==============================] - 0s 3ms/step - loss: 0.3887 - accuracy: 0.8285 - val_loss: 0.4613 - val_accuracy: 0.8047\n",
      "Epoch 102/300\n",
      "39/39 [==============================] - 0s 3ms/step - loss: 0.3887 - accuracy: 0.8269 - val_loss: 0.4540 - val_accuracy: 0.8164\n",
      "Epoch 103/300\n",
      "39/39 [==============================] - 0s 3ms/step - loss: 0.3921 - accuracy: 0.8269 - val_loss: 0.4551 - val_accuracy: 0.8008\n",
      "Epoch 104/300\n",
      "39/39 [==============================] - 0s 3ms/step - loss: 0.3856 - accuracy: 0.8317 - val_loss: 0.4638 - val_accuracy: 0.7969\n",
      "Epoch 105/300\n",
      "39/39 [==============================] - 0s 3ms/step - loss: 0.3920 - accuracy: 0.8269 - val_loss: 0.4507 - val_accuracy: 0.7930\n",
      "Epoch 106/300\n",
      "39/39 [==============================] - 0s 3ms/step - loss: 0.3901 - accuracy: 0.8269 - val_loss: 0.4617 - val_accuracy: 0.8047\n",
      "Epoch 107/300\n",
      "39/39 [==============================] - 0s 3ms/step - loss: 0.3906 - accuracy: 0.8269 - val_loss: 0.4600 - val_accuracy: 0.8086\n",
      "Epoch 108/300\n",
      "39/39 [==============================] - 0s 3ms/step - loss: 0.3918 - accuracy: 0.8173 - val_loss: 0.4477 - val_accuracy: 0.8125\n",
      "Epoch 109/300\n",
      "39/39 [==============================] - 0s 3ms/step - loss: 0.3829 - accuracy: 0.8285 - val_loss: 0.4478 - val_accuracy: 0.8203\n",
      "Epoch 110/300\n",
      "39/39 [==============================] - 0s 3ms/step - loss: 0.3932 - accuracy: 0.8221 - val_loss: 0.4568 - val_accuracy: 0.7969\n",
      "Epoch 111/300\n",
      "39/39 [==============================] - 0s 3ms/step - loss: 0.3841 - accuracy: 0.8221 - val_loss: 0.4610 - val_accuracy: 0.8086\n",
      "Epoch 112/300\n",
      "39/39 [==============================] - 0s 3ms/step - loss: 0.4014 - accuracy: 0.8141 - val_loss: 0.4472 - val_accuracy: 0.8164\n",
      "Epoch 113/300\n",
      "39/39 [==============================] - 0s 3ms/step - loss: 0.3963 - accuracy: 0.8237 - val_loss: 0.4835 - val_accuracy: 0.7891\n",
      "Epoch 114/300\n",
      "39/39 [==============================] - 0s 3ms/step - loss: 0.4104 - accuracy: 0.8253 - val_loss: 0.4463 - val_accuracy: 0.8086\n",
      "Epoch 115/300\n",
      "39/39 [==============================] - 0s 3ms/step - loss: 0.3872 - accuracy: 0.8173 - val_loss: 0.4492 - val_accuracy: 0.8008\n",
      "Epoch 116/300\n"
     ]
    },
    {
     "name": "stdout",
     "output_type": "stream",
     "text": [
      "39/39 [==============================] - 0s 3ms/step - loss: 0.3861 - accuracy: 0.8237 - val_loss: 0.4463 - val_accuracy: 0.8086\n",
      "Epoch 117/300\n",
      "39/39 [==============================] - 0s 3ms/step - loss: 0.3900 - accuracy: 0.8109 - val_loss: 0.4501 - val_accuracy: 0.8008\n",
      "Epoch 118/300\n",
      "39/39 [==============================] - 0s 3ms/step - loss: 0.3873 - accuracy: 0.8189 - val_loss: 0.4605 - val_accuracy: 0.7930\n",
      "Epoch 119/300\n",
      "39/39 [==============================] - 0s 3ms/step - loss: 0.3871 - accuracy: 0.8253 - val_loss: 0.4617 - val_accuracy: 0.8008\n",
      "Epoch 120/300\n",
      "39/39 [==============================] - 0s 3ms/step - loss: 0.4011 - accuracy: 0.8141 - val_loss: 0.4536 - val_accuracy: 0.7969\n",
      "Epoch 121/300\n",
      "39/39 [==============================] - 0s 3ms/step - loss: 0.4057 - accuracy: 0.8173 - val_loss: 0.4693 - val_accuracy: 0.8008\n",
      "Epoch 122/300\n",
      "39/39 [==============================] - 0s 3ms/step - loss: 0.4107 - accuracy: 0.8157 - val_loss: 0.4532 - val_accuracy: 0.8008\n",
      "Epoch 123/300\n",
      "39/39 [==============================] - 0s 3ms/step - loss: 0.3872 - accuracy: 0.8221 - val_loss: 0.4724 - val_accuracy: 0.8008\n",
      "Epoch 124/300\n",
      "39/39 [==============================] - 0s 3ms/step - loss: 0.3968 - accuracy: 0.8221 - val_loss: 0.4886 - val_accuracy: 0.7891\n",
      "Epoch 125/300\n",
      "39/39 [==============================] - 0s 3ms/step - loss: 0.3900 - accuracy: 0.8301 - val_loss: 0.4474 - val_accuracy: 0.8125\n",
      "Epoch 126/300\n",
      "39/39 [==============================] - 0s 3ms/step - loss: 0.3851 - accuracy: 0.8205 - val_loss: 0.4512 - val_accuracy: 0.8047\n",
      "Epoch 127/300\n",
      "39/39 [==============================] - 0s 3ms/step - loss: 0.3934 - accuracy: 0.8269 - val_loss: 0.4638 - val_accuracy: 0.7969\n",
      "Epoch 128/300\n",
      "39/39 [==============================] - 0s 3ms/step - loss: 0.3846 - accuracy: 0.8221 - val_loss: 0.4487 - val_accuracy: 0.8047\n",
      "Epoch 129/300\n",
      "39/39 [==============================] - 0s 3ms/step - loss: 0.3908 - accuracy: 0.8237 - val_loss: 0.4650 - val_accuracy: 0.7969\n",
      "Epoch 130/300\n",
      "39/39 [==============================] - 0s 3ms/step - loss: 0.3891 - accuracy: 0.8237 - val_loss: 0.4507 - val_accuracy: 0.8086\n",
      "Epoch 131/300\n",
      "39/39 [==============================] - 0s 3ms/step - loss: 0.3809 - accuracy: 0.8189 - val_loss: 0.4689 - val_accuracy: 0.7969\n",
      "Epoch 132/300\n",
      "39/39 [==============================] - 0s 3ms/step - loss: 0.3831 - accuracy: 0.8317 - val_loss: 0.4601 - val_accuracy: 0.8008\n",
      "Epoch 133/300\n",
      "39/39 [==============================] - 0s 3ms/step - loss: 0.3953 - accuracy: 0.8173 - val_loss: 0.4487 - val_accuracy: 0.8086\n",
      "Epoch 134/300\n",
      "39/39 [==============================] - 0s 3ms/step - loss: 0.3855 - accuracy: 0.8189 - val_loss: 0.4532 - val_accuracy: 0.8086\n",
      "Epoch 135/300\n",
      "39/39 [==============================] - 0s 3ms/step - loss: 0.3950 - accuracy: 0.8173 - val_loss: 0.4722 - val_accuracy: 0.8008\n",
      "Epoch 136/300\n",
      "39/39 [==============================] - 0s 3ms/step - loss: 0.3902 - accuracy: 0.8157 - val_loss: 0.4973 - val_accuracy: 0.7852\n",
      "Epoch 137/300\n",
      "39/39 [==============================] - 0s 3ms/step - loss: 0.3869 - accuracy: 0.8237 - val_loss: 0.4556 - val_accuracy: 0.8047\n",
      "Epoch 138/300\n",
      "39/39 [==============================] - 0s 3ms/step - loss: 0.3831 - accuracy: 0.8333 - val_loss: 0.4480 - val_accuracy: 0.8008\n",
      "Epoch 139/300\n",
      "39/39 [==============================] - 0s 3ms/step - loss: 0.4003 - accuracy: 0.8141 - val_loss: 0.4840 - val_accuracy: 0.7969\n",
      "Epoch 140/300\n",
      "39/39 [==============================] - 0s 3ms/step - loss: 0.3876 - accuracy: 0.8173 - val_loss: 0.4592 - val_accuracy: 0.8008\n",
      "Epoch 141/300\n",
      "39/39 [==============================] - 0s 3ms/step - loss: 0.4006 - accuracy: 0.8269 - val_loss: 0.4580 - val_accuracy: 0.8047\n",
      "Epoch 142/300\n",
      "39/39 [==============================] - 0s 3ms/step - loss: 0.3851 - accuracy: 0.8141 - val_loss: 0.4559 - val_accuracy: 0.7969\n",
      "Epoch 143/300\n",
      "39/39 [==============================] - 0s 3ms/step - loss: 0.3902 - accuracy: 0.8237 - val_loss: 0.4426 - val_accuracy: 0.8086\n",
      "Epoch 144/300\n",
      "39/39 [==============================] - 0s 3ms/step - loss: 0.3856 - accuracy: 0.8189 - val_loss: 0.4456 - val_accuracy: 0.8047\n",
      "Epoch 145/300\n",
      "39/39 [==============================] - 0s 3ms/step - loss: 0.3891 - accuracy: 0.8237 - val_loss: 0.4664 - val_accuracy: 0.8086\n",
      "Epoch 146/300\n",
      "39/39 [==============================] - 0s 3ms/step - loss: 0.3849 - accuracy: 0.8301 - val_loss: 0.4520 - val_accuracy: 0.8008\n",
      "Epoch 147/300\n",
      "39/39 [==============================] - 0s 3ms/step - loss: 0.3734 - accuracy: 0.8285 - val_loss: 0.4506 - val_accuracy: 0.8047\n",
      "Epoch 148/300\n",
      "39/39 [==============================] - 0s 3ms/step - loss: 0.3861 - accuracy: 0.8269 - val_loss: 0.4469 - val_accuracy: 0.8086\n",
      "Epoch 149/300\n",
      "39/39 [==============================] - 0s 3ms/step - loss: 0.3842 - accuracy: 0.8205 - val_loss: 0.4453 - val_accuracy: 0.8086\n",
      "Epoch 150/300\n",
      "39/39 [==============================] - 0s 3ms/step - loss: 0.3828 - accuracy: 0.8237 - val_loss: 0.4506 - val_accuracy: 0.8008\n",
      "Epoch 151/300\n",
      "39/39 [==============================] - 0s 3ms/step - loss: 0.3866 - accuracy: 0.8253 - val_loss: 0.4456 - val_accuracy: 0.8047\n",
      "Epoch 152/300\n",
      "39/39 [==============================] - 0s 3ms/step - loss: 0.3867 - accuracy: 0.8221 - val_loss: 0.4538 - val_accuracy: 0.8008\n",
      "Epoch 153/300\n",
      "39/39 [==============================] - 0s 3ms/step - loss: 0.3800 - accuracy: 0.8285 - val_loss: 0.4550 - val_accuracy: 0.8086\n",
      "Epoch 154/300\n",
      "39/39 [==============================] - 0s 3ms/step - loss: 0.4234 - accuracy: 0.8141 - val_loss: 0.4638 - val_accuracy: 0.8047\n",
      "Epoch 155/300\n",
      "39/39 [==============================] - 0s 3ms/step - loss: 0.3903 - accuracy: 0.8285 - val_loss: 0.4826 - val_accuracy: 0.7969\n",
      "Epoch 156/300\n",
      "39/39 [==============================] - 0s 3ms/step - loss: 0.3897 - accuracy: 0.8157 - val_loss: 0.4743 - val_accuracy: 0.7930\n",
      "Epoch 157/300\n",
      "39/39 [==============================] - 0s 3ms/step - loss: 0.4013 - accuracy: 0.8157 - val_loss: 0.4525 - val_accuracy: 0.8047\n",
      "Epoch 158/300\n",
      "39/39 [==============================] - 0s 3ms/step - loss: 0.3806 - accuracy: 0.8221 - val_loss: 0.4576 - val_accuracy: 0.8086\n",
      "Epoch 159/300\n",
      "39/39 [==============================] - 0s 3ms/step - loss: 0.3782 - accuracy: 0.8237 - val_loss: 0.4430 - val_accuracy: 0.8164\n",
      "Epoch 160/300\n",
      "39/39 [==============================] - 0s 3ms/step - loss: 0.3847 - accuracy: 0.8269 - val_loss: 0.4657 - val_accuracy: 0.7969\n",
      "Epoch 161/300\n",
      "39/39 [==============================] - 0s 3ms/step - loss: 0.3818 - accuracy: 0.8285 - val_loss: 0.4469 - val_accuracy: 0.8086\n",
      "Epoch 162/300\n",
      "39/39 [==============================] - 0s 3ms/step - loss: 0.3831 - accuracy: 0.8269 - val_loss: 0.4570 - val_accuracy: 0.8086\n",
      "Epoch 163/300\n",
      "39/39 [==============================] - 0s 3ms/step - loss: 0.3829 - accuracy: 0.8269 - val_loss: 0.4416 - val_accuracy: 0.8086\n",
      "Epoch 164/300\n",
      "39/39 [==============================] - 0s 3ms/step - loss: 0.3787 - accuracy: 0.8205 - val_loss: 0.4627 - val_accuracy: 0.8008\n",
      "Epoch 165/300\n",
      "39/39 [==============================] - 0s 3ms/step - loss: 0.3865 - accuracy: 0.8317 - val_loss: 0.4398 - val_accuracy: 0.7969\n",
      "Epoch 166/300\n",
      "39/39 [==============================] - 0s 3ms/step - loss: 0.3752 - accuracy: 0.8237 - val_loss: 0.4585 - val_accuracy: 0.8047\n",
      "Epoch 167/300\n",
      "39/39 [==============================] - 0s 3ms/step - loss: 0.3813 - accuracy: 0.8301 - val_loss: 0.4606 - val_accuracy: 0.8047\n",
      "Epoch 168/300\n",
      "39/39 [==============================] - 0s 3ms/step - loss: 0.3822 - accuracy: 0.8205 - val_loss: 0.4634 - val_accuracy: 0.7969\n",
      "Epoch 169/300\n",
      "39/39 [==============================] - 0s 3ms/step - loss: 0.3806 - accuracy: 0.8253 - val_loss: 0.4533 - val_accuracy: 0.8008\n",
      "Epoch 170/300\n",
      "39/39 [==============================] - 0s 3ms/step - loss: 0.3783 - accuracy: 0.8253 - val_loss: 0.4395 - val_accuracy: 0.7930\n",
      "Epoch 171/300\n",
      "39/39 [==============================] - 0s 3ms/step - loss: 0.3847 - accuracy: 0.8221 - val_loss: 0.4591 - val_accuracy: 0.8047\n",
      "Epoch 172/300\n",
      "39/39 [==============================] - 0s 3ms/step - loss: 0.3771 - accuracy: 0.8301 - val_loss: 0.4514 - val_accuracy: 0.8164\n",
      "Epoch 173/300\n"
     ]
    },
    {
     "name": "stdout",
     "output_type": "stream",
     "text": [
      "39/39 [==============================] - 0s 3ms/step - loss: 0.3849 - accuracy: 0.8237 - val_loss: 0.4528 - val_accuracy: 0.8086\n",
      "Epoch 174/300\n",
      "39/39 [==============================] - 0s 3ms/step - loss: 0.3774 - accuracy: 0.8237 - val_loss: 0.4487 - val_accuracy: 0.8086\n",
      "Epoch 175/300\n",
      "39/39 [==============================] - 0s 3ms/step - loss: 0.3927 - accuracy: 0.8301 - val_loss: 0.4633 - val_accuracy: 0.8047\n",
      "Epoch 176/300\n",
      "39/39 [==============================] - 0s 3ms/step - loss: 0.3953 - accuracy: 0.8237 - val_loss: 0.4694 - val_accuracy: 0.8086\n",
      "Epoch 177/300\n",
      "39/39 [==============================] - 0s 3ms/step - loss: 0.3861 - accuracy: 0.8189 - val_loss: 0.4812 - val_accuracy: 0.7969\n",
      "Epoch 178/300\n",
      "39/39 [==============================] - 0s 3ms/step - loss: 0.3800 - accuracy: 0.8157 - val_loss: 0.4481 - val_accuracy: 0.8086\n",
      "Epoch 179/300\n",
      "39/39 [==============================] - 0s 3ms/step - loss: 0.3749 - accuracy: 0.8253 - val_loss: 0.4726 - val_accuracy: 0.7969\n",
      "Epoch 180/300\n",
      "39/39 [==============================] - 0s 3ms/step - loss: 0.3881 - accuracy: 0.8173 - val_loss: 0.4604 - val_accuracy: 0.8125\n",
      "Epoch 181/300\n",
      "39/39 [==============================] - 0s 3ms/step - loss: 0.3888 - accuracy: 0.8269 - val_loss: 0.4856 - val_accuracy: 0.7930\n",
      "Epoch 182/300\n",
      "39/39 [==============================] - 0s 3ms/step - loss: 0.3886 - accuracy: 0.8141 - val_loss: 0.4385 - val_accuracy: 0.8047\n",
      "Epoch 183/300\n",
      "39/39 [==============================] - 0s 3ms/step - loss: 0.3796 - accuracy: 0.8205 - val_loss: 0.4678 - val_accuracy: 0.8086\n",
      "Epoch 184/300\n",
      "39/39 [==============================] - 0s 3ms/step - loss: 0.3801 - accuracy: 0.8301 - val_loss: 0.4587 - val_accuracy: 0.8086\n",
      "Epoch 185/300\n",
      "39/39 [==============================] - 0s 3ms/step - loss: 0.3861 - accuracy: 0.8173 - val_loss: 0.4517 - val_accuracy: 0.8125\n",
      "Epoch 186/300\n",
      "39/39 [==============================] - 0s 3ms/step - loss: 0.3977 - accuracy: 0.8157 - val_loss: 0.4656 - val_accuracy: 0.8125\n",
      "Epoch 187/300\n",
      "39/39 [==============================] - 0s 3ms/step - loss: 0.3726 - accuracy: 0.8253 - val_loss: 0.4485 - val_accuracy: 0.8125\n",
      "Epoch 188/300\n",
      "39/39 [==============================] - 0s 3ms/step - loss: 0.3688 - accuracy: 0.8317 - val_loss: 0.4570 - val_accuracy: 0.8008\n",
      "Epoch 189/300\n",
      "39/39 [==============================] - 0s 3ms/step - loss: 0.3848 - accuracy: 0.8397 - val_loss: 0.4803 - val_accuracy: 0.8047\n",
      "Epoch 190/300\n",
      "39/39 [==============================] - 0s 3ms/step - loss: 0.3940 - accuracy: 0.8237 - val_loss: 0.4571 - val_accuracy: 0.8164\n",
      "Epoch 191/300\n",
      "39/39 [==============================] - 0s 3ms/step - loss: 0.3813 - accuracy: 0.8253 - val_loss: 0.4578 - val_accuracy: 0.8086\n",
      "Epoch 192/300\n",
      "39/39 [==============================] - 0s 3ms/step - loss: 0.3803 - accuracy: 0.8253 - val_loss: 0.4420 - val_accuracy: 0.8047\n",
      "Epoch 193/300\n",
      "39/39 [==============================] - 0s 3ms/step - loss: 0.3799 - accuracy: 0.8349 - val_loss: 0.4478 - val_accuracy: 0.8008\n",
      "Epoch 194/300\n",
      "39/39 [==============================] - 0s 3ms/step - loss: 0.3809 - accuracy: 0.8269 - val_loss: 0.4447 - val_accuracy: 0.8125\n",
      "Epoch 195/300\n",
      "39/39 [==============================] - 0s 3ms/step - loss: 0.3740 - accuracy: 0.8269 - val_loss: 0.4686 - val_accuracy: 0.8125\n",
      "Epoch 196/300\n",
      "39/39 [==============================] - 0s 3ms/step - loss: 0.3952 - accuracy: 0.8221 - val_loss: 0.4615 - val_accuracy: 0.7969\n",
      "Epoch 197/300\n",
      "39/39 [==============================] - 0s 3ms/step - loss: 0.3794 - accuracy: 0.8205 - val_loss: 0.4617 - val_accuracy: 0.8125\n",
      "Epoch 198/300\n",
      "39/39 [==============================] - 0s 3ms/step - loss: 0.3898 - accuracy: 0.8301 - val_loss: 0.4428 - val_accuracy: 0.8164\n",
      "Epoch 199/300\n",
      "39/39 [==============================] - 0s 3ms/step - loss: 0.3807 - accuracy: 0.8333 - val_loss: 0.4777 - val_accuracy: 0.8008\n",
      "Epoch 200/300\n",
      "39/39 [==============================] - 0s 3ms/step - loss: 0.4054 - accuracy: 0.8205 - val_loss: 0.4625 - val_accuracy: 0.7930\n",
      "Epoch 201/300\n",
      "39/39 [==============================] - 0s 3ms/step - loss: 0.3766 - accuracy: 0.8333 - val_loss: 0.4435 - val_accuracy: 0.8164\n",
      "Epoch 202/300\n",
      "39/39 [==============================] - 0s 3ms/step - loss: 0.3752 - accuracy: 0.8349 - val_loss: 0.4568 - val_accuracy: 0.8008\n",
      "Epoch 203/300\n",
      "39/39 [==============================] - 0s 3ms/step - loss: 0.3663 - accuracy: 0.8285 - val_loss: 0.4842 - val_accuracy: 0.7969\n",
      "Epoch 204/300\n",
      "39/39 [==============================] - 0s 3ms/step - loss: 0.3747 - accuracy: 0.8349 - val_loss: 0.4460 - val_accuracy: 0.8008\n",
      "Epoch 205/300\n",
      "39/39 [==============================] - 0s 3ms/step - loss: 0.3723 - accuracy: 0.8237 - val_loss: 0.4431 - val_accuracy: 0.8047\n",
      "Epoch 206/300\n",
      "39/39 [==============================] - 0s 3ms/step - loss: 0.3759 - accuracy: 0.8333 - val_loss: 0.4592 - val_accuracy: 0.8164\n",
      "Epoch 207/300\n",
      "39/39 [==============================] - 0s 3ms/step - loss: 0.3680 - accuracy: 0.8333 - val_loss: 0.4446 - val_accuracy: 0.8125\n",
      "Epoch 208/300\n",
      "39/39 [==============================] - 0s 3ms/step - loss: 0.3754 - accuracy: 0.8317 - val_loss: 0.4463 - val_accuracy: 0.8086\n",
      "Epoch 209/300\n",
      "39/39 [==============================] - 0s 3ms/step - loss: 0.3737 - accuracy: 0.8221 - val_loss: 0.4414 - val_accuracy: 0.8203\n",
      "Epoch 210/300\n",
      "39/39 [==============================] - 0s 3ms/step - loss: 0.3722 - accuracy: 0.8221 - val_loss: 0.4709 - val_accuracy: 0.8047\n",
      "Epoch 211/300\n",
      "39/39 [==============================] - 0s 3ms/step - loss: 0.3707 - accuracy: 0.8413 - val_loss: 0.4512 - val_accuracy: 0.8047\n",
      "Epoch 212/300\n",
      "39/39 [==============================] - 0s 3ms/step - loss: 0.3681 - accuracy: 0.8381 - val_loss: 0.4389 - val_accuracy: 0.8164\n",
      "Epoch 213/300\n",
      "39/39 [==============================] - 0s 3ms/step - loss: 0.3679 - accuracy: 0.8349 - val_loss: 0.4498 - val_accuracy: 0.8242\n",
      "Epoch 214/300\n",
      "39/39 [==============================] - 0s 3ms/step - loss: 0.3917 - accuracy: 0.8237 - val_loss: 0.4689 - val_accuracy: 0.8164\n",
      "Epoch 215/300\n",
      "39/39 [==============================] - 0s 3ms/step - loss: 0.3898 - accuracy: 0.8301 - val_loss: 0.4552 - val_accuracy: 0.8047\n",
      "Epoch 216/300\n",
      "39/39 [==============================] - 0s 3ms/step - loss: 0.3805 - accuracy: 0.8285 - val_loss: 0.4539 - val_accuracy: 0.7969\n",
      "Epoch 217/300\n",
      "39/39 [==============================] - 0s 3ms/step - loss: 0.3748 - accuracy: 0.8317 - val_loss: 0.4616 - val_accuracy: 0.8203\n",
      "Epoch 218/300\n",
      "39/39 [==============================] - 0s 3ms/step - loss: 0.3759 - accuracy: 0.8285 - val_loss: 0.4595 - val_accuracy: 0.8164\n",
      "Epoch 219/300\n",
      "39/39 [==============================] - 0s 3ms/step - loss: 0.3709 - accuracy: 0.8397 - val_loss: 0.4491 - val_accuracy: 0.8047\n",
      "Epoch 220/300\n",
      "39/39 [==============================] - 0s 3ms/step - loss: 0.3708 - accuracy: 0.8349 - val_loss: 0.4558 - val_accuracy: 0.8125\n",
      "Epoch 221/300\n",
      "39/39 [==============================] - 0s 3ms/step - loss: 0.3669 - accuracy: 0.8333 - val_loss: 0.4670 - val_accuracy: 0.8008\n",
      "Epoch 222/300\n",
      "39/39 [==============================] - 0s 3ms/step - loss: 0.3688 - accuracy: 0.8413 - val_loss: 0.4502 - val_accuracy: 0.8164\n",
      "Epoch 223/300\n",
      "39/39 [==============================] - 0s 3ms/step - loss: 0.3703 - accuracy: 0.8317 - val_loss: 0.4585 - val_accuracy: 0.8125\n",
      "Epoch 224/300\n",
      "39/39 [==============================] - 0s 3ms/step - loss: 0.3683 - accuracy: 0.8285 - val_loss: 0.4504 - val_accuracy: 0.8164\n",
      "Epoch 225/300\n",
      "39/39 [==============================] - 0s 3ms/step - loss: 0.3678 - accuracy: 0.8349 - val_loss: 0.4609 - val_accuracy: 0.8125\n",
      "Epoch 226/300\n",
      "39/39 [==============================] - 0s 3ms/step - loss: 0.3681 - accuracy: 0.8333 - val_loss: 0.5015 - val_accuracy: 0.8086\n",
      "Epoch 227/300\n",
      "39/39 [==============================] - 0s 3ms/step - loss: 0.3753 - accuracy: 0.8397 - val_loss: 0.4522 - val_accuracy: 0.8164\n",
      "Epoch 228/300\n",
      "39/39 [==============================] - 0s 3ms/step - loss: 0.3702 - accuracy: 0.8349 - val_loss: 0.4474 - val_accuracy: 0.8008\n",
      "Epoch 229/300\n",
      "39/39 [==============================] - 0s 3ms/step - loss: 0.3717 - accuracy: 0.8365 - val_loss: 0.4498 - val_accuracy: 0.8125\n",
      "Epoch 230/300\n"
     ]
    },
    {
     "name": "stdout",
     "output_type": "stream",
     "text": [
      "39/39 [==============================] - 0s 3ms/step - loss: 0.3849 - accuracy: 0.8285 - val_loss: 0.4587 - val_accuracy: 0.8164\n",
      "Epoch 231/300\n",
      "39/39 [==============================] - 0s 3ms/step - loss: 0.3893 - accuracy: 0.8237 - val_loss: 0.4464 - val_accuracy: 0.8164\n",
      "Epoch 232/300\n",
      "39/39 [==============================] - 0s 3ms/step - loss: 0.3760 - accuracy: 0.8317 - val_loss: 0.4514 - val_accuracy: 0.8164\n",
      "Epoch 233/300\n",
      "39/39 [==============================] - 0s 3ms/step - loss: 0.3715 - accuracy: 0.8349 - val_loss: 0.4523 - val_accuracy: 0.8164\n",
      "Epoch 234/300\n",
      "39/39 [==============================] - 0s 3ms/step - loss: 0.3755 - accuracy: 0.8301 - val_loss: 0.4509 - val_accuracy: 0.8125\n",
      "Epoch 235/300\n",
      "39/39 [==============================] - 0s 3ms/step - loss: 0.3666 - accuracy: 0.8462 - val_loss: 0.4485 - val_accuracy: 0.8164\n",
      "Epoch 236/300\n",
      "39/39 [==============================] - 0s 3ms/step - loss: 0.3681 - accuracy: 0.8381 - val_loss: 0.4472 - val_accuracy: 0.8203\n",
      "Epoch 237/300\n",
      "39/39 [==============================] - 0s 3ms/step - loss: 0.3714 - accuracy: 0.8333 - val_loss: 0.4386 - val_accuracy: 0.8203\n",
      "Epoch 238/300\n",
      "39/39 [==============================] - 0s 3ms/step - loss: 0.3736 - accuracy: 0.8237 - val_loss: 0.4467 - val_accuracy: 0.8086\n",
      "Epoch 239/300\n",
      "39/39 [==============================] - 0s 3ms/step - loss: 0.3716 - accuracy: 0.8317 - val_loss: 0.4395 - val_accuracy: 0.8242\n",
      "Epoch 240/300\n",
      "39/39 [==============================] - 0s 3ms/step - loss: 0.3696 - accuracy: 0.8333 - val_loss: 0.4439 - val_accuracy: 0.8125\n",
      "Epoch 241/300\n",
      "39/39 [==============================] - 0s 3ms/step - loss: 0.4135 - accuracy: 0.8253 - val_loss: 0.4589 - val_accuracy: 0.8008\n",
      "Epoch 242/300\n",
      "39/39 [==============================] - 0s 3ms/step - loss: 0.3921 - accuracy: 0.8253 - val_loss: 0.4794 - val_accuracy: 0.8125\n",
      "Epoch 243/300\n",
      "39/39 [==============================] - 0s 3ms/step - loss: 0.3786 - accuracy: 0.8253 - val_loss: 0.4623 - val_accuracy: 0.8047\n",
      "Epoch 244/300\n",
      "39/39 [==============================] - 0s 3ms/step - loss: 0.3750 - accuracy: 0.8333 - val_loss: 0.4543 - val_accuracy: 0.8203\n",
      "Epoch 245/300\n",
      "39/39 [==============================] - 0s 3ms/step - loss: 0.3702 - accuracy: 0.8269 - val_loss: 0.4550 - val_accuracy: 0.8164\n",
      "Epoch 246/300\n",
      "39/39 [==============================] - 0s 3ms/step - loss: 0.3696 - accuracy: 0.8285 - val_loss: 0.4588 - val_accuracy: 0.7969\n",
      "Epoch 247/300\n",
      "39/39 [==============================] - 0s 3ms/step - loss: 0.3672 - accuracy: 0.8349 - val_loss: 0.4815 - val_accuracy: 0.7969\n",
      "Epoch 248/300\n",
      "39/39 [==============================] - 0s 3ms/step - loss: 0.3834 - accuracy: 0.8269 - val_loss: 0.4677 - val_accuracy: 0.8086\n",
      "Epoch 249/300\n",
      "39/39 [==============================] - 0s 3ms/step - loss: 0.3733 - accuracy: 0.8317 - val_loss: 0.4629 - val_accuracy: 0.8164\n",
      "Epoch 250/300\n",
      "39/39 [==============================] - 0s 3ms/step - loss: 0.3704 - accuracy: 0.8349 - val_loss: 0.4898 - val_accuracy: 0.8008\n",
      "Epoch 251/300\n",
      "39/39 [==============================] - 0s 3ms/step - loss: 0.4045 - accuracy: 0.8317 - val_loss: 0.4608 - val_accuracy: 0.8203\n",
      "Epoch 252/300\n",
      "39/39 [==============================] - 0s 3ms/step - loss: 0.3742 - accuracy: 0.8333 - val_loss: 0.4383 - val_accuracy: 0.8242\n",
      "Epoch 253/300\n",
      "39/39 [==============================] - 0s 3ms/step - loss: 0.3673 - accuracy: 0.8333 - val_loss: 0.4592 - val_accuracy: 0.8125\n",
      "Epoch 254/300\n",
      "39/39 [==============================] - 0s 3ms/step - loss: 0.3701 - accuracy: 0.8253 - val_loss: 0.4663 - val_accuracy: 0.8164\n",
      "Epoch 255/300\n",
      "39/39 [==============================] - 0s 3ms/step - loss: 0.3689 - accuracy: 0.8317 - val_loss: 0.4777 - val_accuracy: 0.8125\n",
      "Epoch 256/300\n",
      "39/39 [==============================] - 0s 3ms/step - loss: 0.3725 - accuracy: 0.8221 - val_loss: 0.4798 - val_accuracy: 0.8008\n",
      "Epoch 257/300\n",
      "39/39 [==============================] - 0s 3ms/step - loss: 0.3683 - accuracy: 0.8333 - val_loss: 0.4465 - val_accuracy: 0.8086\n",
      "Epoch 258/300\n",
      "39/39 [==============================] - 0s 3ms/step - loss: 0.3736 - accuracy: 0.8237 - val_loss: 0.4411 - val_accuracy: 0.8242\n",
      "Epoch 259/300\n",
      "39/39 [==============================] - 0s 3ms/step - loss: 0.3767 - accuracy: 0.8333 - val_loss: 0.4464 - val_accuracy: 0.8203\n",
      "Epoch 260/300\n",
      "39/39 [==============================] - 0s 3ms/step - loss: 0.3718 - accuracy: 0.8189 - val_loss: 0.4591 - val_accuracy: 0.8164\n",
      "Epoch 261/300\n",
      "39/39 [==============================] - 0s 3ms/step - loss: 0.3742 - accuracy: 0.8333 - val_loss: 0.4410 - val_accuracy: 0.8164\n",
      "Epoch 262/300\n",
      "39/39 [==============================] - 0s 3ms/step - loss: 0.3770 - accuracy: 0.8381 - val_loss: 0.4456 - val_accuracy: 0.8164\n",
      "Epoch 263/300\n",
      "39/39 [==============================] - 0s 3ms/step - loss: 0.3683 - accuracy: 0.8429 - val_loss: 0.4515 - val_accuracy: 0.8086\n",
      "Epoch 264/300\n",
      "39/39 [==============================] - 0s 3ms/step - loss: 0.3707 - accuracy: 0.8269 - val_loss: 0.4592 - val_accuracy: 0.7891\n",
      "Epoch 265/300\n",
      "39/39 [==============================] - 0s 3ms/step - loss: 0.3707 - accuracy: 0.8349 - val_loss: 0.4406 - val_accuracy: 0.8086\n",
      "Epoch 266/300\n",
      "39/39 [==============================] - 0s 3ms/step - loss: 0.3594 - accuracy: 0.8365 - val_loss: 0.4436 - val_accuracy: 0.8047\n",
      "Epoch 267/300\n",
      "39/39 [==============================] - 0s 3ms/step - loss: 0.3693 - accuracy: 0.8269 - val_loss: 0.4418 - val_accuracy: 0.8164\n",
      "Epoch 268/300\n",
      "39/39 [==============================] - 0s 3ms/step - loss: 0.3729 - accuracy: 0.8381 - val_loss: 0.4705 - val_accuracy: 0.8008\n",
      "Epoch 269/300\n",
      "39/39 [==============================] - 0s 3ms/step - loss: 0.3722 - accuracy: 0.8381 - val_loss: 0.4372 - val_accuracy: 0.8164\n",
      "Epoch 270/300\n",
      "39/39 [==============================] - 0s 3ms/step - loss: 0.3713 - accuracy: 0.8253 - val_loss: 0.4352 - val_accuracy: 0.8242\n",
      "Epoch 271/300\n",
      "39/39 [==============================] - 0s 3ms/step - loss: 0.3615 - accuracy: 0.8429 - val_loss: 0.4442 - val_accuracy: 0.8125\n",
      "Epoch 272/300\n",
      "39/39 [==============================] - 0s 3ms/step - loss: 0.3627 - accuracy: 0.8397 - val_loss: 0.4545 - val_accuracy: 0.8008\n",
      "Epoch 273/300\n",
      "39/39 [==============================] - 0s 3ms/step - loss: 0.3687 - accuracy: 0.8365 - val_loss: 0.4558 - val_accuracy: 0.8164\n",
      "Epoch 274/300\n",
      "39/39 [==============================] - 0s 3ms/step - loss: 0.3598 - accuracy: 0.8333 - val_loss: 0.4412 - val_accuracy: 0.8125\n",
      "Epoch 275/300\n",
      "39/39 [==============================] - 0s 3ms/step - loss: 0.3617 - accuracy: 0.8413 - val_loss: 0.4402 - val_accuracy: 0.8125\n",
      "Epoch 276/300\n",
      "39/39 [==============================] - 0s 3ms/step - loss: 0.3728 - accuracy: 0.8317 - val_loss: 0.4683 - val_accuracy: 0.8086\n",
      "Epoch 277/300\n",
      "39/39 [==============================] - 0s 3ms/step - loss: 0.3721 - accuracy: 0.8349 - val_loss: 0.4485 - val_accuracy: 0.8125\n",
      "Epoch 278/300\n",
      "39/39 [==============================] - 0s 3ms/step - loss: 0.3734 - accuracy: 0.8285 - val_loss: 0.4368 - val_accuracy: 0.8086\n",
      "Epoch 279/300\n",
      "39/39 [==============================] - 0s 3ms/step - loss: 0.3746 - accuracy: 0.8317 - val_loss: 0.4524 - val_accuracy: 0.8164\n",
      "Epoch 280/300\n",
      "39/39 [==============================] - 0s 3ms/step - loss: 0.3626 - accuracy: 0.8269 - val_loss: 0.4595 - val_accuracy: 0.8047\n",
      "Epoch 281/300\n",
      "39/39 [==============================] - 0s 3ms/step - loss: 0.3928 - accuracy: 0.8173 - val_loss: 0.4849 - val_accuracy: 0.7969\n",
      "Epoch 282/300\n",
      "39/39 [==============================] - 0s 3ms/step - loss: 0.3670 - accuracy: 0.8253 - val_loss: 0.4940 - val_accuracy: 0.7930\n",
      "Epoch 283/300\n",
      "39/39 [==============================] - 0s 3ms/step - loss: 0.3736 - accuracy: 0.8317 - val_loss: 0.4352 - val_accuracy: 0.8164\n",
      "Epoch 284/300\n",
      "39/39 [==============================] - 0s 3ms/step - loss: 0.3656 - accuracy: 0.8397 - val_loss: 0.4710 - val_accuracy: 0.8047\n",
      "Epoch 285/300\n",
      "39/39 [==============================] - 0s 3ms/step - loss: 0.3661 - accuracy: 0.8285 - val_loss: 0.4438 - val_accuracy: 0.8125\n",
      "Epoch 286/300\n",
      "39/39 [==============================] - 0s 3ms/step - loss: 0.3624 - accuracy: 0.8365 - val_loss: 0.4595 - val_accuracy: 0.8047\n",
      "Epoch 287/300\n"
     ]
    },
    {
     "name": "stdout",
     "output_type": "stream",
     "text": [
      "39/39 [==============================] - 0s 3ms/step - loss: 0.3613 - accuracy: 0.8365 - val_loss: 0.4411 - val_accuracy: 0.8086\n",
      "Epoch 288/300\n",
      "39/39 [==============================] - 0s 3ms/step - loss: 0.3683 - accuracy: 0.8365 - val_loss: 0.4445 - val_accuracy: 0.8164\n",
      "Epoch 289/300\n",
      "39/39 [==============================] - 0s 3ms/step - loss: 0.3676 - accuracy: 0.8301 - val_loss: 0.4859 - val_accuracy: 0.8008\n",
      "Epoch 290/300\n",
      "39/39 [==============================] - 0s 3ms/step - loss: 0.3635 - accuracy: 0.8349 - val_loss: 0.4445 - val_accuracy: 0.8164\n",
      "Epoch 291/300\n",
      "39/39 [==============================] - 0s 3ms/step - loss: 0.3702 - accuracy: 0.8413 - val_loss: 0.4368 - val_accuracy: 0.8125\n",
      "Epoch 292/300\n",
      "39/39 [==============================] - 0s 3ms/step - loss: 0.3651 - accuracy: 0.8349 - val_loss: 0.4567 - val_accuracy: 0.8125\n",
      "Epoch 293/300\n",
      "39/39 [==============================] - 0s 3ms/step - loss: 0.3635 - accuracy: 0.8365 - val_loss: 0.4409 - val_accuracy: 0.8125\n",
      "Epoch 294/300\n",
      "39/39 [==============================] - 0s 3ms/step - loss: 0.3690 - accuracy: 0.8317 - val_loss: 0.4334 - val_accuracy: 0.8047\n",
      "Epoch 295/300\n",
      "39/39 [==============================] - 0s 3ms/step - loss: 0.3659 - accuracy: 0.8237 - val_loss: 0.4553 - val_accuracy: 0.7969\n",
      "Epoch 296/300\n",
      "39/39 [==============================] - 0s 3ms/step - loss: 0.3621 - accuracy: 0.8365 - val_loss: 0.4787 - val_accuracy: 0.8008\n",
      "Epoch 297/300\n",
      "39/39 [==============================] - 0s 3ms/step - loss: 0.3602 - accuracy: 0.8397 - val_loss: 0.4398 - val_accuracy: 0.8047\n",
      "Epoch 298/300\n",
      "39/39 [==============================] - 0s 3ms/step - loss: 0.3683 - accuracy: 0.8317 - val_loss: 0.4569 - val_accuracy: 0.8047\n",
      "Epoch 299/300\n",
      "39/39 [==============================] - 0s 3ms/step - loss: 0.3696 - accuracy: 0.8317 - val_loss: 0.4471 - val_accuracy: 0.8047\n",
      "Epoch 300/300\n",
      "39/39 [==============================] - 0s 3ms/step - loss: 0.3590 - accuracy: 0.8365 - val_loss: 0.4446 - val_accuracy: 0.8125\n"
     ]
    }
   ],
   "source": [
    "## Se não usar o parâmetro epochs, o modelo vai treinar até o pipeline de dados parar de produzir batchs\n",
    "## Nesse caso, para simular o número de épocas, pode usar o repeat durante a preparação do pipepline\n",
    "## Para este caso, utilizaremos o epochs e, portanto, não precisa utilizar o repeat no pipeline\n",
    "history = model.fit(train_dataset,\n",
    "                      epochs=EPOCHS,\n",
    "                      validation_data=test_dataset,\n",
    "                      validation_steps=TEST_LENGHT // BATCH_SIZE)"
   ]
  },
  {
   "cell_type": "markdown",
   "metadata": {},
   "source": [
    "### Resultados"
   ]
  },
  {
   "cell_type": "code",
   "execution_count": 45,
   "metadata": {},
   "outputs": [
    {
     "data": {
      "image/png": "[encoded data removed]",
      "text/plain": [
       "<Figure size 432x288 with 1 Axes>"
      ]
     },
     "metadata": {
      "needs_background": "light"
     },
     "output_type": "display_data"
    }
   ],
   "source": [
    "plt.plot(history.history['accuracy'])\n",
    "plt.plot(history.history['val_accuracy'])\n",
    "plt.ylim([0.6, 0.9])\n",
    "plt.title('Acurácia do Modelo')\n",
    "plt.ylabel('acurácia')\n",
    "plt.xlabel('Época')\n",
    "plt.legend(['train', 'test'], loc='lower left')\n",
    "plt.show()"
   ]
  },
  {
   "cell_type": "code",
   "execution_count": 46,
   "metadata": {},
   "outputs": [
    {
     "data": {
      "image/png": "[encoded data removed]",
      "text/plain": [
       "<Figure size 432x288 with 1 Axes>"
      ]
     },
     "metadata": {
      "needs_background": "light"
     },
     "output_type": "display_data"
    }
   ],
   "source": [
    "plt.plot(history.history['loss'])\n",
    "plt.plot(history.history['val_loss'])\n",
    "plt.ylim([0.2, 0.7])\n",
    "plt.title('Loss do Modelo')\n",
    "plt.ylabel('loss')\n",
    "plt.xlabel('Época')\n",
    "plt.legend(['train', 'test'], loc='lower left')\n",
    "plt.show()"
   ]
  },
  {
   "cell_type": "markdown",
   "metadata": {},
   "source": [
    "### Predição"
   ]
  },
  {
   "cell_type": "code",
   "execution_count": 47,
   "metadata": {},
   "outputs": [],
   "source": [
    "features, labels = next(iter(test_dataset))"
   ]
  },
  {
   "cell_type": "code",
   "execution_count": 48,
   "metadata": {},
   "outputs": [
    {
     "data": {
      "text/plain": [
       "array([35.  ,  0.  ,  8.05,  0.  ,  0.  ,  1.  ,  0.  ,  1.  ])"
      ]
     },
     "execution_count": 48,
     "metadata": {},
     "output_type": "execute_result"
    }
   ],
   "source": [
    "features.numpy()[0]"
   ]
  },
  {
   "cell_type": "code",
   "execution_count": 49,
   "metadata": {},
   "outputs": [
    {
     "data": {
      "text/plain": [
       "array([[0],\n",
       "       [0],\n",
       "       [1],\n",
       "       [1],\n",
       "       [1],\n",
       "       [1],\n",
       "       [0],\n",
       "       [0],\n",
       "       [0],\n",
       "       [1],\n",
       "       [1],\n",
       "       [0],\n",
       "       [1],\n",
       "       [0],\n",
       "       [1],\n",
       "       [0]])"
      ]
     },
     "execution_count": 49,
     "metadata": {},
     "output_type": "execute_result"
    }
   ],
   "source": [
    "labels.numpy()"
   ]
  },
  {
   "cell_type": "code",
   "execution_count": 50,
   "metadata": {},
   "outputs": [
    {
     "data": {
      "text/plain": [
       "array([[-2.2222183 ],\n",
       "       [-1.338894  ],\n",
       "       [ 2.6360776 ],\n",
       "       [ 0.75812083],\n",
       "       [-2.0837886 ],\n",
       "       [ 0.79757637],\n",
       "       [-2.864997  ],\n",
       "       [-2.0089302 ],\n",
       "       [-1.3888214 ],\n",
       "       [ 0.592774  ],\n",
       "       [ 0.40834448],\n",
       "       [-1.9926797 ],\n",
       "       [ 7.6329727 ],\n",
       "       [-0.12902291],\n",
       "       [ 2.0846493 ],\n",
       "       [-7.277063  ]], dtype=float32)"
      ]
     },
     "execution_count": 50,
     "metadata": {},
     "output_type": "execute_result"
    }
   ],
   "source": [
    "predictions = model.predict(features.numpy())\n",
    "predictions"
   ]
  },
  {
   "cell_type": "code",
   "execution_count": 51,
   "metadata": {},
   "outputs": [
    {
     "name": "stdout",
     "output_type": "stream",
     "text": [
      "Probabilidade: 9.78%, Sobreviveu: Não\n",
      "Probabilidade: 20.77%, Sobreviveu: Não\n",
      "Probabilidade: 93.31%, Sobreviveu: Sim\n",
      "Probabilidade: 68.09%, Sobreviveu: Sim\n",
      "Probabilidade: 11.07%, Sobreviveu: Sim\n",
      "Probabilidade: 68.95%, Sobreviveu: Sim\n",
      "Probabilidade: 5.39%, Sobreviveu: Não\n",
      "Probabilidade: 11.83%, Sobreviveu: Não\n",
      "Probabilidade: 19.96%, Sobreviveu: Não\n",
      "Probabilidade: 64.40%, Sobreviveu: Sim\n",
      "Probabilidade: 60.07%, Sobreviveu: Sim\n",
      "Probabilidade: 12.00%, Sobreviveu: Não\n",
      "Probabilidade: 99.95%, Sobreviveu: Sim\n",
      "Probabilidade: 46.78%, Sobreviveu: Não\n",
      "Probabilidade: 88.94%, Sobreviveu: Sim\n",
      "Probabilidade: 0.07%, Sobreviveu: Não\n"
     ]
    }
   ],
   "source": [
    "for pred, label in zip(tf.sigmoid(predictions).numpy(), labels.numpy()):\n",
    "    print(\"Probabilidade: {:.2%}, Sobreviveu: {}\".format(pred[0], (\"Sim\" if bool(label[0]) else \"Não\")))"
   ]
  },
  {
   "cell_type": "markdown",
   "metadata": {},
   "source": [
    "### Referências"
   ]
  },
  {
   "cell_type": "markdown",
   "metadata": {},
   "source": [
    "[1] File:Perceptron-bias.svg. Disponível em: https://commons.wikimedia.org/wiki/File:Perceptron-bias.svg. Acesso em: 03 de julho de 2020.\n",
    "\n",
    "[2] File:Multi-Layer Neural Network-Vector.svg. Disponível em: https://commons.wikimedia.org/wiki/File:Multi-Layer_Neural_Network-Vector.svg. Acesso em: 03 de julho de 2020."
   ]
  }
 ],
 "metadata": {
  "kernelspec": {
   "display_name": "Python 3",
   "language": "python",
   "name": "python3"
  },
  "language_info": {
   "codemirror_mode": {
    "name": "ipython",
    "version": 3
   },
   "file_extension": ".py",
   "mimetype": "text/x-python",
   "name": "python",
   "nbconvert_exporter": "python",
   "pygments_lexer": "ipython3",
   "version": "3.6.9"
  }
 },
 "nbformat": 4,
 "nbformat_minor": 4
}
